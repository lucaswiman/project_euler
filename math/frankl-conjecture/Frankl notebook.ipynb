{
 "cells": [
  {
   "cell_type": "markdown",
   "metadata": {},
   "source": [
    "_Note:_ _family_ and _set_ both refer to unordered sets, though the former is used as a set-of-sets.\n",
    "\n",
    "**Definition:** $[n]=\\{0, 1, \\ldots, n-1\\}$.\n",
    "\n",
    "**Definition:** A family of sets `S` is called _union-closed_ if for every $T\\subseteq S$, we have\n",
    "\n",
    "\\\\[\n",
    "\\big( \\bigcup_{e\\in T} e\\big ) \\in S\n",
    "\\\\]\n",
    "\n",
    "**Definition:** The _universe_ of a family of sets, denoted $\\mathcal{U}(S)$ is defined by:\n",
    "\n",
    "\\\\[\n",
    "\\mathcal{U}(S) = \\bigcup_{s\\in S} s\n",
    "\\\\]\n",
    "\n",
    "\n",
    "**Definition:** The union-closure of a family of sets $\\mathcal{C}(S)$ is the smallest union closed family containing $S$. Equivalently:\n",
    "\\\\[\n",
    "\\mathcal{C}(S) = \\Big \\{ \\bigcup_{e\\in T} e~ \\big|~ T\\subseteq S \\Big \\}\n",
    "\\\\]\n",
    "\n",
    "\n",
    "**Definition:** For a family of sets, the _element-family_ $S_x$ is defined as:\n",
    "\\\\[\n",
    "S_x =  \\big \\{ s\\in S: x \\in s \\big \\}\n",
    "\\\\]\n",
    "The _element count_ is defined as $|S_x|$, and the _element proportion_ of S is $\\mathcal{E}_x(S) = |S_x|/|S|$.\n",
    "\n",
    "**Conjecture (Frankl):** Every union-closed family of sets has an element in at least half the sets. This bound is sharp, since it is realized by powersets of $[n]$.\n",
    "\n",
    "**Theorem:** Let $F_0$ and $F_1$ be union-closed families such that $\\mathcal{U}(F_0)\\cap \\mathcal{U}(F_1) = \\emptyset $, and let $T=\\mathcal{C}(F_0 \\cup F_1)$. Then \n",
    "\n",
    " 1. $|T| = |F_0|\\cdot |F_1|$.\n",
    " 2. For every $x\\in\\mathcal{U}(F_0)$, $\\mathcal{E}_x(T) = \\mathcal{E}_x(F_0)$. (And similarly for $F_1$).\n",
    " \n",
    "**Proof:** For (1), note that there is a canonical bijection $u: F_0 \\times F_1\\to T$ given by $(s_0, s_1)\\mapsto s_0\\cup s_1$. For (2), if $x\\in F_0$, then $x\\in s\\in T$ iff $x\\in (u^{-1}(s))^{0}$ where $\\tau^j$ denotes the $j$th element of a tuple $\\tau$. Then $T_x=\\{u((s_0, s_1))|x\\in s_0\\} = u[(F_0)_x \\times F_1]=|(F_0)_x|\\cdot |F_1|$, and so we have:\n",
    "\\begin{align}\n",
    "\\mathcal{E}_x(T) = & \\frac{|T_x|}{|T|} \\\\\n",
    "                 = & \\frac{|(F_0)_x|\\cdot |F_1|}{|F_0|\\cdot|F_1|} \\\\\n",
    "                 = & \\frac{|(F_0)_x|}{|F_0|} = \\mathcal{E}_x(S)\n",
    "\\end{align}\n",
    "\n",
    "**Definition:** An element $x$ in a union-closed family $S$ is called _critical_ if $\\frac{|S_x|}{|S|} < \\frac{1}{2}$, but $\\frac{|S_x|}{|S| - 1} \\geq \\frac{1}{2}$.\n",
    "\n",
    "Note that if $S$ has a critical element, it implies that $|S|$ is odd. (Proof: if $|S|=2k$, then $|S_x|\\leq k - 1$, but note that $\\frac{k-1}{2k-1} < \\frac{1}{2}$ since $2k-2 < 2k-1$.)\n",
    "\n",
    "**Theorem:** Assume that Frankl's conjecture is false, and let $F$ be a counterexample such that $|F|$ is minimal among all counterexamples. Then:\n",
    " 1. $|F|$ is odd.\n",
    " 2. $|F|$ has at least two critical elements.\n",
    " \n",
    " **Proof:** For (1), select $s\\in F$ such that there is no $t\\in S$, $t\\neq \\emptyset$ with $t\\subset s$. Then $F^\\prime = F-\\{s\\}$ is also union-closed, since if $s=t\\cup v$ for $t, v\\in S$ nonempty, then $t\\subset s$. By minimality, there is an $x\\in \\mathcal{U}(F^\\prime)$ such that $\\frac{|F_x^\\prime|}{|F^\\prime|}\\geq \\frac{1}{2}$. Cross-multiplyhing, this yields $2|F_x^\\prime|\\geq |F^\\prime|$.\n",
    "  \n",
    "If $x\\in s$, then $|F_x|=|F_x^\\prime| + 1$ and $|F|= |F^\\prime| + 1$. Substituting in to the inequality above, we get $2\\cdot (|F_x| - 1) \\geq |F| - 1$, so $2|F_x| - 1 \\geq |F|$, implying $2|F_x| \\geq |F|$. That contradicts that $F$ is a counterexample, therefore $x\\not\\in s$. Therefore, $|F_x|=|F_x^\\prime|$, and so $x$ is a critical element. Since $F$ has a critical element, we conclude that $|F|$ is odd.\n",
    "\n",
    "For (2), choose $s$ and $x$ as before. Now choose $s^\\prime$ such that $x\\in s^\\prime$ such that $s^\\prime$ has no non-empty subsets in $F$ (for example, you can choose the set of smallest cardinality containing $x$. The argument goes through as before that there must be some $x^\\prime$ in at least half of $F-\\{ s^\\prime \\}$. It then follows that $x^\\prime$ is critical, but $x\\neq x^\\prime$ since $x\\in s$ and $x^\\prime \\not\\in s^\\prime$. Therefore $F$ has two critical elements.∎"
   ]
  },
  {
   "cell_type": "code",
   "execution_count": 31,
   "metadata": {},
   "outputs": [],
   "source": [
    "from typing import Set, Dict\n",
    "from functools import reduce\n",
    "from operator import or_\n",
    "import builtins\n",
    "from collections import Counter\n",
    "\n",
    "\n",
    "def get_universe(sets: Set[frozenset]) -> frozenset:\n",
    "    return reduce(or_, sets, frozenset())\n",
    "\n",
    "\n",
    "def union_close(sets: Set[frozenset]) -> Set[frozenset]:\n",
    "    closed = set(sets) | {frozenset()}  # Add the empty set, which corresponds to an empty union.\n",
    "    iteration_needed = True\n",
    "    while iteration_needed:\n",
    "        to_add = set()\n",
    "        for member in sets:\n",
    "            for other_set in closed:\n",
    "                union = member | other_set\n",
    "                if union not in closed:\n",
    "                    to_add.add(union)\n",
    "        iteration_needed = bool(to_add)\n",
    "        closed.update(to_add)\n",
    "    return closed\n",
    "\n",
    "def element_counts(sets: Set[frozenset]) -> Counter:\n",
    "    return Counter(element for member in sets for element in member)\n",
    "\n",
    "def element_proportions(sets: Set[frozenset]) -> Dict[int, float]:\n",
    "    number = len(sets)\n",
    "    return {element: count / number for element, count  in element_counts(sets).items()}"
   ]
  },
  {
   "cell_type": "code",
   "execution_count": 25,
   "metadata": {},
   "outputs": [],
   "source": [
    "assert len(union_close({frozenset({1}), frozenset({2}), frozenset({3}), frozenset({4})})) == 2 **4"
   ]
  },
  {
   "cell_type": "markdown",
   "metadata": {},
   "source": [
    "## Example\n",
    "\n",
    "Build an example with some interesting combinatorics. We build a separable family of sets generated by triples from 4-element subsets of the set $[16]$. Note that the union of any two sets from the 4-element subsets equals the 4-element set, so we can only form sets of size which can be expressed as a sum of 3's and 4's, i.e.:\n",
    "\n",
    "- There are $12$ $3$-element sets.\n",
    "- There are $4$ $4$-element sets.\n",
    "- There are no $5$-element sets.\n",
    "- There are ${4 \\choose 2}\\cdot 3^2=6 \\cdot 3^2=54$ $6$-element sets (selecting one from each 4-element family).\n",
    "- There are $4 \\cdot 3 \\cdot 3=36$ $7$-element sets.\n",
    "- There are ${4 \\choose 2}=6$ $8$-element sets.\n",
    "- There are ${4 \\choose 3}\\cdot 3^3=108$ $9$-element sets.\n",
    "- There are $4\\cdot {3 \\choose 2} \\cdot 3^2=108$ $10$-element sets.\n",
    "- There are ${4 \\choose 2} \\cdot {2 \\choose 1} \\cdot 3=6\\cdot 2 \\cdot 3=36$ $11$-element sets.\n",
    "- There are $3^4 + {4 \\choose 3} = 85$ $12$-element sets.\n",
    "- There are ${4 \\choose 3}\\cdot 3^3=108$ $12$-element sets.\n",
    "- There are ${4 \\choose 1}\\cdot 3^3=4\\cdot 27=108$ $13$-element sets.\n",
    "- There are ${4 \\choose 2}\\cdot 3^2=54$ $14$-element sets.\n",
    "- There are ${4 \\choose 1}\\cdot 3=12$ $15$-element sets.\n",
    "- ... and so on.\n",
    "\n",
    "Unfortunately, since there are more ways to express larger sets as sums of 3's and 4's, there are too many large sets.\n",
    "\n"
   ]
  },
  {
   "cell_type": "code",
   "execution_count": 85,
   "metadata": {},
   "outputs": [
    {
     "data": {
      "text/plain": [
       "{4: 0.8,\n",
       " 5: 0.6,\n",
       " 6: 0.6,\n",
       " 7: 0.6,\n",
       " 8: 0.8,\n",
       " 9: 0.6,\n",
       " 10: 0.6,\n",
       " 11: 0.6,\n",
       " 12: 0.8,\n",
       " 14: 0.6,\n",
       " 15: 0.6,\n",
       " 0: 0.8,\n",
       " 1: 0.6,\n",
       " 2: 0.6,\n",
       " 3: 0.6,\n",
       " 13: 0.6}"
      ]
     },
     "execution_count": 85,
     "metadata": {},
     "output_type": "execute_result"
    }
   ],
   "source": [
    "base_sets = set()\n",
    "for start in range(0, 16, 4):\n",
    "    a, b, c, d = range(start, start + 4)\n",
    "    base_sets.update([\n",
    "        frozenset({a, b, c}),\n",
    "        frozenset({a, b, d}),\n",
    "        frozenset({a, c, d}),\n",
    "    ])\n",
    "example = union_close(base_sets)\n",
    "counts = element_counts(example)\n",
    "len(base_sets)\n",
    "def assert_lengths(example, set_size, expected):\n",
    "    assert len([s for s in example if len(s) == set_size]) == expected\n",
    "\n",
    "assert_lengths(example, 1, 0)\n",
    "assert_lengths(example, 2, 0)\n",
    "assert_lengths(example, 3, 12)\n",
    "assert_lengths(example, 3, 12)\n",
    "assert_lengths(example, 4, 4)\n",
    "assert_lengths(example, 5, 0)\n",
    "assert_lengths(example, 6, 54)\n",
    "assert_lengths(example, 7, 36)\n",
    "assert_lengths(example, 8, 6)\n",
    "assert_lengths(example, 9, 108)\n",
    "assert_lengths(example, 10, 108)\n",
    "assert_lengths(example, 11, 36)\n",
    "assert_lengths(example, 12, 85)\n",
    "assert_lengths(example, 13, 108)\n",
    "assert_lengths(example, 14, 54)\n",
    "assert_lengths(example, 15, 12)\n",
    "\n",
    "EXAMPLES = {'3-element sets from 4 element families from [16]': example}\n",
    "element_proportions(example)"
   ]
  },
  {
   "cell_type": "markdown",
   "metadata": {},
   "source": [
    "Can we generalize this example? Let's try building $k-1$ sets of length $k-1$ from $n/k$ subsets of the universe:"
   ]
  },
  {
   "cell_type": "code",
   "execution_count": 88,
   "metadata": {},
   "outputs": [],
   "source": [
    "def get_example_base_sets(k: int, n: int) -> Set[frozenset]:\n",
    "    assert n % k == 0\n",
    "    base_sets = set()\n",
    "    for start in range(0, n, k):\n",
    "        subset = frozenset(range(start, start + k))\n",
    "        for excluded in range(start + 1, start + k):\n",
    "            base_sets.add(subset - {excluded})\n",
    "    return base_sets\n",
    "\n",
    "def build_example(k: int, n: int) -> Set[frozenset]:\n",
    "    return union_close(get_example_base_sets(k, n))\n",
    "\n",
    "\n",
    "assert build_example(4, 16) == EXAMPLES['3-element sets from 4 element families from [16]']"
   ]
  },
  {
   "cell_type": "code",
   "execution_count": 89,
   "metadata": {},
   "outputs": [
    {
     "name": "stdout",
     "output_type": "stream",
     "text": [
      "k=4, n=16, min proportion=0.6\n",
      "k=4, n=20, min proportion=0.6\n",
      "k=4, n=24, min proportion=0.6\n",
      "k=6, n=12, min proportion=0.7142857142857143\n",
      "k=6, n=18, min proportion=0.7142857142857143\n",
      "k=6, n=24, min proportion=0.7142857142857143\n",
      "k=9, n=18, min proportion=0.8\n",
      "k=7, n=21, min proportion=0.75\n",
      "k=5, n=20, min proportion=0.6666666666666666\n",
      "k=5, n=10, min proportion=0.6666666666666666\n",
      "k=3, n=21, min proportion=0.5\n"
     ]
    }
   ],
   "source": [
    "def print_example(k, n):\n",
    "    print(f'k={k}, n={n}, min proportion={min(element_proportions(build_example(k, n)).values())}')\n",
    "\n",
    "print_example(4, 16)    \n",
    "print_example(4, 20)\n",
    "print_example(4, 24)\n",
    "print_example(6, 12)\n",
    "print_example(6, 18)\n",
    "print_example(6, 24)\n",
    "print_example(9, 18)\n",
    "print_example(7, 21)\n",
    "print_example(5, 20)\n",
    "print_example(5, 10)\n",
    "print_example(3, 21)"
   ]
  },
  {
   "cell_type": "markdown",
   "metadata": {},
   "source": [
    "So it appears that the minimum proportion depends only on $k$, and that the minimum proportion is achieved for $k=3$ at precisely the Frankl bound of $\\frac{1}{2}$. *TODO*: prove this?\n",
    "\n",
    "What happens if we combine these examples into a different partition?"
   ]
  },
  {
   "cell_type": "code",
   "execution_count": 118,
   "metadata": {},
   "outputs": [
    {
     "name": "stdout",
     "output_type": "stream",
     "text": [
      "82=4*2+5*2, min proportion=0.6, max proportion=0.8333333333333334\n",
      "98=4*3+5*2, min proportion=0.6, max proportion=0.8333333333333334\n",
      "100=3*2+4*2+5*2, min proportion=0.5, max proportion=0.8333333333333334\n",
      "154=4*2+5*2+6*2, min proportion=0.6, max proportion=0.8571428571428571\n"
     ]
    }
   ],
   "source": [
    "from typing import List, Tuple\n",
    "def get_combined_example_base_sets(k_ns: List[Tuple[int, int]]) -> Set[frozenset]:\n",
    "    acc = 0\n",
    "    base_sets = set()\n",
    "    for k, n in k_ns:\n",
    "        current_base_sets = get_example_base_sets(k, n)\n",
    "        base_sets.update(frozenset(i + acc for i in base_set) for base_set in current_base_sets)\n",
    "        acc += n\n",
    "    return base_sets\n",
    "\n",
    "def build_combined_example(k_ns: List[Tuple[int, int]]) -> Set[frozenset]:\n",
    "    return union_close(get_combined_example_base_sets(k_ns))\n",
    "\n",
    "def print_combined_example(k_ns):\n",
    "    partition_string = f'{sum(k * n for k, n in k_ns)}={\"+\".join(f\"{k}*{n // k}\" for k, n in k_ns)}'\n",
    "    example = build_combined_example(k_ns)\n",
    "    print(f'{partition_string}, min proportion={min(element_proportions(example).values())}, max proportion={max(element_proportions(example).values())}')\n",
    "\n",
    "print_combined_example([(4, 8), (5, 10)])\n",
    "print_combined_example([(4, 12), (5, 10)])\n",
    "print_combined_example([(3, 6), (4, 8), (5, 10)])\n",
    "print_combined_example([(4, 8), (5, 10), (6, 12)])"
   ]
  },
  {
   "cell_type": "markdown",
   "metadata": {},
   "source": [
    "So it appears that in this family of examples, the minimum and max proportion is controlled by the smallest and largest $k$ respectively."
   ]
  },
  {
   "cell_type": "code",
   "execution_count": null,
   "metadata": {
    "collapsed": true
   },
   "outputs": [],
   "source": [
    "class UnionClosedSetBasis(Set[frozenset]):\n",
    "    def __sub__(self, removed_basis_sets: Set[frozenset]):\n",
    "        if not removed_basis_sets <= self:\n",
    "            raise ValueError('Trying to remove basis sets not present %s' % (removed_basis_sets - self))\n",
    "        bases = super(UnionClosedSetBasis, self).__sub__(removed_basis_sets)\n",
    "        "
   ]
  }
 ],
 "metadata": {
  "kernelspec": {
   "display_name": "Python 3",
   "language": "python",
   "name": "python3"
  },
  "language_info": {
   "codemirror_mode": {
    "name": "ipython",
    "version": 3
   },
   "file_extension": ".py",
   "mimetype": "text/x-python",
   "name": "python",
   "nbconvert_exporter": "python",
   "pygments_lexer": "ipython3",
   "version": "3.7.0"
  }
 },
 "nbformat": 4,
 "nbformat_minor": 2
}
