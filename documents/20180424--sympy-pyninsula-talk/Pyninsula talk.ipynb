{
 "cells": [
  {
   "cell_type": "markdown",
   "metadata": {
    "slideshow": {
     "slide_type": "slide"
    }
   },
   "source": [
    "# \"Using sympy in genomics risk computation\n",
    "\n",
    "<b>Lucas Wiman &nbsp; Counsyl</b>\n",
    "\n",
    "2018-04-24\n"
   ]
  },
  {
   "cell_type": "markdown",
   "metadata": {
    "slideshow": {
     "slide_type": "slide"
    }
   },
   "source": [
    "## Sympy\n",
    "\n",
    "* Symbolic algebra package for python\n",
    "* Similar idea to Mathematica.\n",
    "* But it's in _python_, which makes it more useful.\n",
    "  * `pip install sympy`"
   ]
  },
  {
   "cell_type": "markdown",
   "metadata": {
    "slideshow": {
     "slide_type": "slide"
    }
   },
   "source": [
    "## Key features\n",
    "\n",
    "* Basic algebra\n",
    "* Basic calculus\n",
    "* LaTeX math formatting\n",
    "* Plotting"
   ]
  },
  {
   "cell_type": "code",
   "execution_count": 1,
   "metadata": {
    "slideshow": {
     "slide_type": "slide"
    }
   },
   "outputs": [],
   "source": [
    "from sympy import *\n",
    "import sympy\n",
    "# Sets up LaTeX output in jupyter notebook:\n",
    "init_printing()\n",
    "\n",
    "# Shows plots in jupyter notebook:\n",
    "%matplotlib inline\n",
    "from matplotlib import pyplot as plt\n",
    "\n",
    "x, y, z, n, m, k, i, j = symbols('x, y, z, n, m, k, i, j')\n",
    "t = Symbol('t')"
   ]
  },
  {
   "cell_type": "markdown",
   "metadata": {
    "slideshow": {
     "slide_type": "slide"
    }
   },
   "source": [
    "## \"I hate math\"\n",
    "\n",
    "* Think back to math class (probably)\n",
    "* It was boring and repetitive"
   ]
  },
  {
   "cell_type": "markdown",
   "metadata": {
    "slideshow": {
     "slide_type": "fragment"
    }
   },
   "source": [
    "* Computers _kill it_ at boring and repetitive"
   ]
  },
  {
   "cell_type": "markdown",
   "metadata": {
    "slideshow": {
     "slide_type": "slide"
    }
   },
   "source": [
    "## Example: MacLaurin expansion\n",
    "\n",
    "Approximate some function with a polynomial:\n",
    "\n",
    "$$ f(x) = \\sum_{n=0}^\\infty \\frac{f^{(n)}(0)}{n!}x^n $$"
   ]
  },
  {
   "cell_type": "code",
   "execution_count": 4,
   "metadata": {
    "slideshow": {
     "slide_type": "slide"
    }
   },
   "outputs": [
    {
     "data": {
      "image/png": "[encoded data removed]",
      "text/latex": [
       "$$- \\frac{x^{11}}{39916800} + \\frac{x^{9}}{362880} - \\frac{x^{7}}{5040} + \\frac{x^{5}}{120} - \\frac{x^{3}}{6} + x$$"
      ],
      "text/plain": [
       "     11         9       7      5    3    \n",
       "    x          x       x      x    x     \n",
       "- ──────── + ────── - ──── + ─── - ── + x\n",
       "  39916800   362880   5040   120   6     "
      ]
     },
     "execution_count": 4,
     "metadata": {},
     "output_type": "execute_result"
    }
   ],
   "source": [
    "def maclaurin(expression, symbol, n):\n",
    "    \"\"\"\n",
    "    Generate the nth MacLaurin polynomial for the\n",
    "    given ``expression`` with respect to ``symbol``.\n",
    "    \"\"\"\n",
    "    return expression.subs({symbol: 0}) + sum(\n",
    "        diff(expression, symbol, i).subs({symbol: 0}) / factorial(i) * (symbol ** i)\n",
    "        for i in range(1, n+1)\n",
    "    )\n",
    "\n",
    "maclaurin(sin(x), x, 11)"
   ]
  },
  {
   "cell_type": "code",
   "execution_count": 6,
   "metadata": {
    "slideshow": {
     "slide_type": "slide"
    }
   },
   "outputs": [
    {
     "data": {
      "image/png": "[encoded data removed]",
      "text/plain": [
       "<Figure size 432x288 with 1 Axes>"
      ]
     },
     "metadata": {},
     "output_type": "display_data"
    }
   ],
   "source": [
    "p = plot(sin(x),\n",
    "         maclaurin(sin(x), x, 1),\n",
    "         maclaurin(sin(x), x, 7),\n",
    "         maclaurin(sin(x), x, 27),\n",
    "         (x, -4 * pi, 4 * pi), ylim=(-3, 3), show=False)\n",
    "for line, color in zip(p, ['red', 'green', 'blue', 'cyan']):\n",
    "    line.line_color = color\n",
    "p.show()"
   ]
  },
  {
   "cell_type": "markdown",
   "metadata": {
    "slideshow": {
     "slide_type": "slide"
    }
   },
   "source": [
    "## Genomics Risk Calculation\n",
    "- Compute risk of heritable disease\n",
    "- Inherently probabilistic\n",
    "- Needs to be auditable by nonprogrammers\n",
    "- Probability is counterintuitive; hard to audit\n",
    "- `sympy` has auditability tools (plotting, $\\LaTeX$)."
   ]
  },
  {
   "cell_type": "markdown",
   "metadata": {
    "slideshow": {
     "slide_type": "slide"
    }
   },
   "source": [
    "## Genetics Facts\n",
    "- Humans are diploid (two copies of each chromosome, except for X/Y)\n",
    "- Gametes (egg/sperm cells) are haploid (one copy)\n",
    "- Many diseases are _recessive_; both parents must pass a mutation to cause disease."
   ]
  },
  {
   "cell_type": "markdown",
   "metadata": {
    "slideshow": {
     "slide_type": "slide"
    }
   },
   "source": [
    "## Scenario\n",
    "- Both patients test negative for cystic fibrosis.\n",
    "- Incidence 1/3,900.\n",
    "- 99% detection rate\n",
    "$$ \\textrm{detection rate} = P(\\textrm{mutation detected}\\ |\\ \\textrm{mutation present}) $$"
   ]
  },
  {
   "cell_type": "markdown",
   "metadata": {
    "slideshow": {
     "slide_type": "slide"
    }
   },
   "source": [
    "## Goal: use Bayes' law to compute reproductive risk"
   ]
  },
  {
   "cell_type": "markdown",
   "metadata": {
    "slideshow": {
     "slide_type": "slide"
    }
   },
   "source": [
    "## Bae's theorem \n",
    "$$\n",
    "P(\\textrm{chill}\\ |\\ \\textrm{netflix}) = \\frac{P(\\textrm{netflix}\\ |\\ \\textrm{chill})P(\\textrm{chill})}{P(\\textrm{netflix})}\n",
    "$$\n",
    "(h/t @alittlestats https://twitter.com/alittlestats/status/664923862853922820)"
   ]
  },
  {
   "cell_type": "markdown",
   "metadata": {
    "slideshow": {
     "slide_type": "slide"
    }
   },
   "source": [
    "## Bayes' theorem \n",
    "$$\n",
    "P(A\\ |\\ B) = \\frac{P(B\\ |\\ A)P(A)}{P(B)}\n",
    "$$\n",
    "(h/t Rev. Thomas Bayes https://en.wikipedia.org/wiki/Bayes%27_theorem)"
   ]
  },
  {
   "cell_type": "code",
   "execution_count": null,
   "metadata": {
    "slideshow": {
     "slide_type": "slide"
    }
   },
   "outputs": [],
   "source": []
  },
  {
   "cell_type": "code",
   "execution_count": 10,
   "metadata": {
    "slideshow": {
     "slide_type": "slide"
    }
   },
   "outputs": [],
   "source": [
    "import itertools, collections, operator\n",
    "from functools import reduce\n",
    "from typing import *\n",
    "from numbers import *\n",
    "\n",
    "Probability = Union[Number, sympy.Expr]\n",
    "\n",
    "class ProbabilityDistribution(Dict[Any, Probability]):\n",
    "    def bayes_update(self, likelihood: dict):\n",
    "        updated = ProbabilityDistribution({\n",
    "            event: probability * likelihood[event]\n",
    "            for event, probability in self.items()\n",
    "        })\n",
    "        denominator = sympy.simplify(sum(updated.values()))\n",
    "        for event in updated:\n",
    "            updated[event] = sympy.simplify(updated[event] / denominator)\n",
    "        return updated\n",
    "\n",
    "    def cartesian_product(self, *other_distributions):\n",
    "        event_to_probability = collections.defaultdict(float)\n",
    "        distributions = [self, *other_distributions]\n",
    "        for events in itertools.product(*distributions):\n",
    "            probabilities = [distribution[event] for distribution, event in zip(distributions, events)]\n",
    "            event_to_probability[events] += reduce(operator.mul, probabilities, 1)\n",
    "        return Distribution(event_to_probability)"
   ]
  },
  {
   "cell_type": "code",
   "execution_count": 11,
   "metadata": {
    "slideshow": {
     "slide_type": "slide"
    }
   },
   "outputs": [
    {
     "data": {
      "image/png": "[encoded data removed]",
      "text/latex": [
       "$$p^{10} + 10 p^{9} \\left(- p + 1\\right) + 45 p^{8} \\left(- p + 1\\right)^{2} + 120 p^{7} \\left(- p + 1\\right)^{3}$$"
      ],
      "text/plain": [
       " 10       9                8         2        7         3\n",
       "p   + 10⋅p ⋅(-p + 1) + 45⋅p ⋅(-p + 1)  + 120⋅p ⋅(-p + 1) "
      ]
     },
     "execution_count": 11,
     "metadata": {},
     "output_type": "execute_result"
    }
   ],
   "source": [
    "p = symbols('p')\n",
    "d = Distribution({'heads': p, 'tails': 1 - p})\n",
    "ten_tosses = d.cartesian_product(*([d] * 9), unordered=True)\n",
    "\n",
    "def at_least_seven_heads(event):\n",
    "    return len([e for e in event if e == 'heads']) >= 7\n",
    "\n",
    "ten_tosses.P(at_least_seven_heads)"
   ]
  },
  {
   "cell_type": "markdown",
   "metadata": {
    "slideshow": {
     "slide_type": "slide"
    }
   },
   "source": [
    "## Sexual Reproduction 🐦🐝\n",
    "- _Meiosis_ forms haploid sperm/egg cells.\n",
    "- Probability of a particular mutation being transmitted is 50%"
   ]
  },
  {
   "cell_type": "code",
   "execution_count": 12,
   "metadata": {
    "slideshow": {
     "slide_type": "slide"
    }
   },
   "outputs": [],
   "source": [
    "def meiosis(diploid_dist: ProbabilityDistribution):\n",
    "    probabilities = defaultdict(lambda: 0)\n",
    "    for (geno1, geno2), probability in diploid_dist.items():\n",
    "        probabilities[geno1] += probability / 2\n",
    "        probabilities[geno2] += probability / 2"
   ]
  },
  {
   "cell_type": "markdown",
   "metadata": {
    "slideshow": {
     "slide_type": "slide"
    }
   },
   "source": [
    "## Sexual Reproduction 🐦🐝 (cont'd)\n",
    "- _Fertilization_ of egg/sperm generates a diploid cell.\n",
    "- 9 months later 👶"
   ]
  },
  {
   "cell_type": "code",
   "execution_count": 13,
   "metadata": {
    "slideshow": {
     "slide_type": "slide"
    }
   },
   "outputs": [],
   "source": [
    "def fertilize(egg: ProbabilityDistribution,\n",
    "              sperm: ProbabilityDistribution):\n",
    "    return egg.cartesian_product(sperm)"
   ]
  },
  {
   "cell_type": "markdown",
   "metadata": {
    "slideshow": {
     "slide_type": "slide"
    }
   },
   "source": [
    "## Punnett Square\n",
    "<table>\n",
    "    <tr>\n",
    "        <td></td>\n",
    "        <th>A</th>\n",
    "        <th>A</th>\n",
    "    </tr>\n",
    "    <tr>\n",
    "        <th>A</th>\n",
    "        <td style=\"color: green;\">AA</td>\n",
    "        <td style=\"color: blue; font-weight: bold;\">Aa</td>\n",
    "    </tr>\n",
    "    <tr>\n",
    "        <th>a</th>\n",
    "        <td style=\"color: blue; font-weight: bold;\">aA</td>\n",
    "        <td><b style=\"color: red\">aa</b></td>\n",
    "    </tr>\n",
    "</table>\n",
    "\n",
    "Let $q$ denote the freqency of A, $p=1-q$ denote the frequency of a in the population."
   ]
  },
  {
   "cell_type": "markdown",
   "metadata": {
    "slideshow": {
     "slide_type": "notes"
    }
   },
   "source": [
    "- `a` is deleterious (recessive)\n",
    "- `A` is benign (dominant)\n",
    "- `aa` is disease causing"
   ]
  },
  {
   "cell_type": "code",
   "execution_count": null,
   "metadata": {
    "slideshow": {
     "slide_type": "slide"
    }
   },
   "outputs": [],
   "source": []
  },
  {
   "cell_type": "code",
   "execution_count": null,
   "metadata": {
    "slideshow": {
     "slide_type": "slide"
    }
   },
   "outputs": [],
   "source": []
  },
  {
   "cell_type": "code",
   "execution_count": null,
   "metadata": {
    "slideshow": {
     "slide_type": "slide"
    }
   },
   "outputs": [],
   "source": []
  },
  {
   "cell_type": "code",
   "execution_count": null,
   "metadata": {
    "slideshow": {
     "slide_type": "slide"
    }
   },
   "outputs": [],
   "source": []
  },
  {
   "cell_type": "code",
   "execution_count": null,
   "metadata": {
    "slideshow": {
     "slide_type": "slide"
    }
   },
   "outputs": [],
   "source": []
  },
  {
   "cell_type": "code",
   "execution_count": null,
   "metadata": {
    "slideshow": {
     "slide_type": "slide"
    }
   },
   "outputs": [],
   "source": []
  },
  {
   "cell_type": "code",
   "execution_count": null,
   "metadata": {
    "slideshow": {
     "slide_type": "slide"
    }
   },
   "outputs": [],
   "source": []
  },
  {
   "cell_type": "code",
   "execution_count": null,
   "metadata": {
    "slideshow": {
     "slide_type": "slide"
    }
   },
   "outputs": [],
   "source": []
  },
  {
   "cell_type": "code",
   "execution_count": null,
   "metadata": {
    "slideshow": {
     "slide_type": "slide"
    }
   },
   "outputs": [],
   "source": []
  }
 ],
 "metadata": {
  "celltoolbar": "Slideshow",
  "kernelspec": {
   "display_name": "Python 3",
   "language": "python",
   "name": "python3"
  },
  "language_info": {
   "codemirror_mode": {
    "name": "ipython",
    "version": 3
   },
   "file_extension": ".py",
   "mimetype": "text/x-python",
   "name": "python",
   "nbconvert_exporter": "python",
   "pygments_lexer": "ipython3",
   "version": "3.6.1"
  }
 },
 "nbformat": 4,
 "nbformat_minor": 2
}
