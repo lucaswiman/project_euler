{
 "cells": [
  {
   "cell_type": "markdown",
   "metadata": {
    "slideshow": {
     "slide_type": "slide"
    }
   },
   "source": [
    "# \"Using sympy in genomics risk computation\n",
    "\n",
    "<b>Lucas Wiman &nbsp; Counsyl</b>\n",
    "\n",
    "2018-04-24\n"
   ]
  },
  {
   "cell_type": "markdown",
   "metadata": {
    "slideshow": {
     "slide_type": "slide"
    }
   },
   "source": [
    "## Sympy\n",
    "\n",
    "* Symbolic algebra package for python\n",
    "* Similar idea to Mathematica.\n",
    "* But it's in _python_, which makes it more useful.\n",
    "  * `pip install sympy`"
   ]
  },
  {
   "cell_type": "markdown",
   "metadata": {
    "slideshow": {
     "slide_type": "slide"
    }
   },
   "source": [
    "## Key features\n",
    "\n",
    "* Basic algebra\n",
    "* Basic calculus\n",
    "* LaTeX math formatting\n",
    "* Plotting"
   ]
  },
  {
   "cell_type": "code",
   "execution_count": 1,
   "metadata": {
    "slideshow": {
     "slide_type": "slide"
    }
   },
   "outputs": [],
   "source": [
    "from sympy import *\n",
    "import sympy\n",
    "# Sets up LaTeX output in jupyter notebook:\n",
    "init_printing()\n",
    "\n",
    "# Shows plots in jupyter notebook:\n",
    "%matplotlib inline\n",
    "from matplotlib import pyplot as plt\n",
    "\n",
    "x, y, z, n, m, k, i, j = symbols('x, y, z, n, m, k, i, j')\n",
    "t = Symbol('t')"
   ]
  },
  {
   "cell_type": "markdown",
   "metadata": {
    "slideshow": {
     "slide_type": "slide"
    }
   },
   "source": [
    "## \"I hate math\"\n",
    "\n",
    "* Think back to math class (probably)\n",
    "* It was boring and repetitive"
   ]
  },
  {
   "cell_type": "markdown",
   "metadata": {
    "slideshow": {
     "slide_type": "fragment"
    }
   },
   "source": [
    "* Computers _kill it_ at boring and repetitive"
   ]
  },
  {
   "cell_type": "markdown",
   "metadata": {
    "slideshow": {
     "slide_type": "slide"
    }
   },
   "source": [
    "## Example: MacLaurin expansion\n",
    "\n",
    "Approximate some function with a polynomial:\n",
    "\n",
    "$$ f(x) = \\sum_{n=0}^\\infty \\frac{f^{(n)}(0)}{n!}x^n $$"
   ]
  },
  {
   "cell_type": "code",
   "execution_count": 2,
   "metadata": {
    "slideshow": {
     "slide_type": "slide"
    }
   },
   "outputs": [
    {
     "data": {
      "image/png": "[encoded data removed]",
      "text/latex": [
       "$$- \\frac{x^{11}}{39916800} + \\frac{x^{9}}{362880} - \\frac{x^{7}}{5040} + \\frac{x^{5}}{120} - \\frac{x^{3}}{6} + x$$"
      ],
      "text/plain": [
       "     11         9       7      5    3    \n",
       "    x          x       x      x    x     \n",
       "- ──────── + ────── - ──── + ─── - ── + x\n",
       "  39916800   362880   5040   120   6     "
      ]
     },
     "execution_count": 2,
     "metadata": {},
     "output_type": "execute_result"
    }
   ],
   "source": [
    "def maclaurin(expression, symbol, n):\n",
    "    \"\"\"\n",
    "    Generate the nth MacLaurin polynomial for the\n",
    "    given ``expression`` with respect to ``symbol``.\n",
    "    \"\"\"\n",
    "    return expression.subs({symbol: 0}) + sum(\n",
    "        diff(expression, symbol, i).subs({symbol: 0}) / factorial(i) * (symbol ** i)\n",
    "        for i in range(1, n+1)\n",
    "    )\n",
    "\n",
    "maclaurin(sin(x), x, 11)"
   ]
  },
  {
   "cell_type": "code",
   "execution_count": 3,
   "metadata": {
    "slideshow": {
     "slide_type": "slide"
    }
   },
   "outputs": [
    {
     "data": {
      "image/png": "[encoded data removed]",
      "text/plain": [
       "<Figure size 432x288 with 1 Axes>"
      ]
     },
     "metadata": {},
     "output_type": "display_data"
    }
   ],
   "source": [
    "p = plot(sin(x),\n",
    "         maclaurin(sin(x), x, 1),\n",
    "         maclaurin(sin(x), x, 7),\n",
    "         maclaurin(sin(x), x, 27),\n",
    "         (x, -4 * pi, 4 * pi), ylim=(-3, 3), show=False)\n",
    "for line, color in zip(p, ['red', 'green', 'blue', 'cyan']):\n",
    "    line.line_color = color\n",
    "p.show()"
   ]
  },
  {
   "cell_type": "markdown",
   "metadata": {
    "slideshow": {
     "slide_type": "slide"
    }
   },
   "source": [
    "## Genomics Risk Calculation\n",
    "- Compute risk of heritable disease\n",
    "- Inherently probabilistic\n",
    "- Needs to be auditable by nonprogrammers\n",
    "- Probability is counterintuitive; hard to audit\n",
    "- `sympy` has auditability tools (plotting, $\\LaTeX$)."
   ]
  },
  {
   "cell_type": "markdown",
   "metadata": {
    "slideshow": {
     "slide_type": "slide"
    }
   },
   "source": [
    "## Genetics Facts\n",
    "- Humans are diploid (two copies of each chromosome, except for X/Y)\n",
    "- Gametes (egg/sperm cells) are haploid (one copy)\n",
    "- Many diseases are _recessive_; both parents must pass a mutation to cause disease."
   ]
  },
  {
   "cell_type": "markdown",
   "metadata": {
    "slideshow": {
     "slide_type": "slide"
    }
   },
   "source": [
    "## Scenario\n",
    "- Both patients test negative for cystic fibrosis.\n",
    "- Incidence 1/3,900.\n",
    "- 99% detection rate\n",
    "$$ \\textrm{detection rate} = P(\\textrm{mutation detected}\\ |\\ \\textrm{mutation present}) $$"
   ]
  },
  {
   "cell_type": "markdown",
   "metadata": {
    "slideshow": {
     "slide_type": "slide"
    }
   },
   "source": [
    "## Goal: use Bayes' law to compute reproductive risk"
   ]
  },
  {
   "cell_type": "markdown",
   "metadata": {
    "slideshow": {
     "slide_type": "slide"
    }
   },
   "source": [
    "## Bae's theorem \n",
    "$$\n",
    "P(\\textrm{chill}\\ |\\ \\textrm{netflix}) = \\frac{P(\\textrm{netflix}\\ |\\ \\textrm{chill})P(\\textrm{chill})}{P(\\textrm{netflix})}\n",
    "$$\n",
    "(h/t @alittlestats https://twitter.com/alittlestats/status/664923862853922820)"
   ]
  },
  {
   "cell_type": "markdown",
   "metadata": {
    "slideshow": {
     "slide_type": "slide"
    }
   },
   "source": [
    "## Bayes' theorem \n",
    "$$\n",
    "P(A\\ |\\ B) = \\frac{P(B\\ |\\ A)P(A)}{P(B)}\n",
    "$$\n",
    "(h/t Rev. Thomas Bayes https://en.wikipedia.org/wiki/Bayes%27_theorem)"
   ]
  },
  {
   "cell_type": "code",
   "execution_count": 4,
   "metadata": {
    "slideshow": {
     "slide_type": "slide"
    }
   },
   "outputs": [],
   "source": [
    "import itertools, collections, operator\n",
    "from functools import reduce\n",
    "from typing import *\n",
    "from numbers import *\n",
    "\n",
    "Probability = Union[Number, sympy.Expr]\n",
    "\n",
    "class ProbabilityDistribution(Dict[Any, Probability]):\n",
    "    def bayes_update(self, likelihood: dict):\n",
    "        updated = ProbabilityDistribution({\n",
    "            event: probability * likelihood[event]\n",
    "            for event, probability in self.items()\n",
    "        })\n",
    "        denominator = sympy.simplify(sum(updated.values()))\n",
    "        for event in updated:\n",
    "            updated[event] = sympy.simplify(updated[event] / denominator)\n",
    "        return updated\n",
    "\n",
    "    def cartesian_product(self, *other_distributions):\n",
    "        event_to_probability = collections.defaultdict(float)\n",
    "        distributions = [self, *other_distributions]\n",
    "        for events in itertools.product(*distributions):\n",
    "            probabilities = [distribution[event] for distribution, event in zip(distributions, events)]\n",
    "            event_to_probability[events] += reduce(operator.mul, probabilities, 1)\n",
    "        return ProbabilityDistribution(event_to_probability)\n",
    "    __mul__ = cartesian_product"
   ]
  },
  {
   "cell_type": "code",
   "execution_count": 5,
   "metadata": {
    "slideshow": {
     "slide_type": "slide"
    }
   },
   "outputs": [
    {
     "data": {
      "image/png": "[encoded data removed]",
      "text/latex": [
       "$$p^{10} + 10 p^{9} \\left(- p + 1\\right) + 45 p^{8} \\left(- p + 1\\right)^{2} + 120 p^{7} \\left(- p + 1\\right)^{3}$$"
      ],
      "text/plain": [
       " 10       9                8         2        7         3\n",
       "p   + 10⋅p ⋅(-p + 1) + 45⋅p ⋅(-p + 1)  + 120⋅p ⋅(-p + 1) "
      ]
     },
     "execution_count": 5,
     "metadata": {},
     "output_type": "execute_result"
    }
   ],
   "source": [
    "p = symbols('p')\n",
    "d = ProbabilityDistribution({'heads': p, 'tails': 1 - p})\n",
    "ten_tosses = d.cartesian_product(*([d] * 9))\n",
    "\n",
    "def at_least_seven_heads(tosses: tuple):\n",
    "    return len([e for e in tosses if e == 'heads']) >= 7\n",
    "\n",
    "sum(probability for tosses, probability in ten_tosses.items()\n",
    "    if at_least_seven_heads(tosses))"
   ]
  },
  {
   "cell_type": "markdown",
   "metadata": {
    "slideshow": {
     "slide_type": "slide"
    }
   },
   "source": [
    "## Sexual Reproduction 🐦🐝\n",
    "- _Meiosis_ forms haploid sperm/egg cells.\n",
    "- Probability of a particular mutation being transmitted is 50%"
   ]
  },
  {
   "cell_type": "markdown",
   "metadata": {
    "slideshow": {
     "slide_type": "slide"
    }
   },
   "source": [
    "## Sexual Reproduction 🐦🐝 (cont'd)\n",
    "- _Fertilization_ of egg/sperm generates a diploid cell.\n",
    "- 9 months later 👶"
   ]
  },
  {
   "cell_type": "markdown",
   "metadata": {
    "slideshow": {
     "slide_type": "slide"
    }
   },
   "source": [
    "## Punnett Square\n",
    "<table>\n",
    "    <tr>\n",
    "        <td></td>\n",
    "        <th>A</th>\n",
    "        <th>A</th>\n",
    "    </tr>\n",
    "    <tr>\n",
    "        <th>A</th>\n",
    "        <td style=\"color: green;\">AA</td>\n",
    "        <td style=\"color: blue; font-weight: bold;\">Aa</td>\n",
    "    </tr>\n",
    "    <tr>\n",
    "        <th>a</th>\n",
    "        <td style=\"color: blue; font-weight: bold;\">aA</td>\n",
    "        <td><b style=\"color: red\">aa</b></td>\n",
    "    </tr>\n",
    "</table>\n",
    "\n",
    "Let $q$ denote the freqency of A, $p=1-q$ denote the frequency of a in the population."
   ]
  },
  {
   "cell_type": "markdown",
   "metadata": {
    "slideshow": {
     "slide_type": "notes"
    }
   },
   "source": [
    "- `a` is deleterious (recessive)\n",
    "- `A` is benign (dominant)\n",
    "- `aa` is disease causing"
   ]
  },
  {
   "cell_type": "code",
   "execution_count": 6,
   "metadata": {
    "slideshow": {
     "slide_type": "slide"
    }
   },
   "outputs": [],
   "source": [
    "def meiosis(diploid_dist: ProbabilityDistribution):\n",
    "    probabilities = defaultdict(lambda: 0)\n",
    "    for (geno1, geno2), probability in diploid_dist.items():\n",
    "        probabilities[geno1] = sympy.simplify(probabilities[geno1] + probability / 2)\n",
    "        probabilities[geno2] += sympy.simplify(probabilities[geno2] + probability / 2)\n",
    "    return ProbabilityDistribution(probabilities)"
   ]
  },
  {
   "cell_type": "code",
   "execution_count": 7,
   "metadata": {
    "slideshow": {
     "slide_type": "slide"
    }
   },
   "outputs": [],
   "source": [
    "def fertilize(egg: ProbabilityDistribution,\n",
    "              sperm: ProbabilityDistribution):\n",
    "    return egg * sperm"
   ]
  },
  {
   "cell_type": "code",
   "execution_count": 8,
   "metadata": {
    "slideshow": {
     "slide_type": "slide"
    }
   },
   "outputs": [
    {
     "data": {
      "text/plain": [
       "{('mutant (a)', 'mutant (a)'): p**2,\n",
       " ('mutant (a)', 'wildtype (A)'): p*(-p + 1),\n",
       " ('wildtype (A)', 'mutant (a)'): p*(-p + 1),\n",
       " ('wildtype (A)', 'wildtype (A)'): (-p + 1)**2}"
      ]
     },
     "execution_count": 8,
     "metadata": {},
     "output_type": "execute_result"
    }
   ],
   "source": [
    "mutant, wildtype = 'mutant (a)', 'wildtype (A)'\n",
    "haploid_prior = ProbabilityDistribution({\n",
    "    mutant: p,\n",
    "    wildtype: 1 - p,\n",
    "})\n",
    "diploid_prior = haploid_prior * haploid_prior\n",
    "diploid_prior"
   ]
  },
  {
   "cell_type": "markdown",
   "metadata": {
    "slideshow": {
     "slide_type": "slide"
    }
   },
   "source": [
    "Tested negative; but mutations may have gone undetected."
   ]
  },
  {
   "cell_type": "code",
   "execution_count": 9,
   "metadata": {
    "slideshow": {
     "slide_type": "subslide"
    }
   },
   "outputs": [],
   "source": [
    "detection_rate = sympy.Symbol('d')\n",
    "likelihood = ProbabilityDistribution({\n",
    "    # two mutations, both undetected\n",
    "    (mutant, mutant): (1 - detection_rate) ** 2,\n",
    "    \n",
    "    # one mutation, undetected\n",
    "    (mutant, wildtype): 1 - detection_rate,\n",
    "    (wildtype, mutant): 1 - detection_rate,\n",
    "    \n",
    "    # no mutations\n",
    "    (wildtype, wildtype): 1,\n",
    "})"
   ]
  },
  {
   "cell_type": "code",
   "execution_count": 10,
   "metadata": {
    "slideshow": {
     "slide_type": "slide"
    }
   },
   "outputs": [
    {
     "data": {
      "image/png": "[encoded data removed]",
      "text/latex": [
       "$$\\frac{9 p^{2} \\left(d - 1\\right)^{2} \\left(2 d p - p - 1\\right)^{2}}{4 \\left(d^{2} p^{2} - 2 d p + 1\\right)^{2}}$$"
      ],
      "text/plain": [
       "   2        2                2\n",
       "9⋅p ⋅(d - 1) ⋅(2⋅d⋅p - p - 1) \n",
       "──────────────────────────────\n",
       "                         2    \n",
       "      ⎛ 2  2            ⎞     \n",
       "    4⋅⎝d ⋅p  - 2⋅d⋅p + 1⎠     "
      ]
     },
     "execution_count": 10,
     "metadata": {},
     "output_type": "execute_result"
    }
   ],
   "source": [
    "mother_posterior = father_posterior = diploid_prior.bayes_update(likelihood)\n",
    "egg_posterior = meiosis(mother_posterior)\n",
    "sperm_posterior = meiosis(father_posterior)\n",
    "child_posterior = egg_posterior * sperm_posterior\n",
    "AFFECTED = (mutant, mutant)\n",
    "reproductive_risk = sympy.simplify(child_posterior[AFFECTED])\n",
    "reproductive_risk"
   ]
  },
  {
   "cell_type": "markdown",
   "metadata": {
    "slideshow": {
     "slide_type": "slide"
    }
   },
   "source": [
    "## Odds for various priors"
   ]
  },
  {
   "cell_type": "code",
   "execution_count": 15,
   "metadata": {
    "hideCode": false,
    "hideOutput": false,
    "slideshow": {
     "slide_type": "fragment"
    }
   },
   "outputs": [
    {
     "data": {
      "image/png": "[encoded data removed]",
      "text/plain": [
       "<Figure size 432x288 with 1 Axes>"
      ]
     },
     "metadata": {},
     "output_type": "display_data"
    }
   ],
   "source": [
    "plt = plot(\n",
    "    1 / reproductive_risk.subs({detection_rate: 0.99}),\n",
    "    (p, 0, 1),\n",
    "    yscale='log',\n",
    "    xlabel='Mutation Frequency',\n",
    "    ylabel='',\n",
    "    title='Risk (1 in ...)',\n",
    "    show=False)\n",
    "plt.show()"
   ]
  },
  {
   "cell_type": "markdown",
   "metadata": {
    "slideshow": {
     "slide_type": "slide"
    }
   },
   "source": [
    "## Odds for various detection rates"
   ]
  },
  {
   "cell_type": "code",
   "execution_count": 20,
   "metadata": {
    "slideshow": {
     "slide_type": "fragment"
    }
   },
   "outputs": [
    {
     "data": {
      "image/png": "[encoded data removed]",
      "text/plain": [
       "<Figure size 432x288 with 1 Axes>"
      ]
     },
     "metadata": {},
     "output_type": "display_data"
    },
    {
     "data": {
      "image/png": "[encoded data removed]",
      "text/latex": [
       "$$3844.0000000000005$$"
      ],
      "text/plain": [
       "3844.0000000000005"
      ]
     },
     "execution_count": 20,
     "metadata": {},
     "output_type": "execute_result"
    }
   ],
   "source": [
    "mutation_frequency = 1 / 62\n",
    "plt = plot(\n",
    "    1/(mutation_frequency ** 2),\n",
    "    1 / reproductive_risk.subs({p: mutation_frequency}),\n",
    "    (detection_rate, 0, 1),\n",
    "    yscale='log',\n",
    "    xlabel='Detection rate',\n",
    "    ylabel='',\n",
    "    title='Risk (1 in ...)',\n",
    "    show=False)\n",
    "plt.show()\n",
    "1/(mutation_frequency ** 2)"
   ]
  },
  {
   "cell_type": "code",
   "execution_count": 25,
   "metadata": {
    "slideshow": {
     "slide_type": "slide"
    }
   },
   "outputs": [
    {
     "data": {
      "image/png": "[encoded data removed]",
      "text/latex": [
       "$$\\left ( 0.000604361595459118, \\quad 0.00026014568158168577\\right )$$"
      ],
      "text/plain": [
       "(0.000604361595459118, 0.00026014568158168577)"
      ]
     },
     "execution_count": 25,
     "metadata": {},
     "output_type": "execute_result"
    }
   ],
   "source": [
    "reproductive_risk.subs({p: 1/ 62, detection_rate: 0}), 1/(62 ** 2)"
   ]
  },
  {
   "cell_type": "code",
   "execution_count": null,
   "metadata": {
    "slideshow": {
     "slide_type": "slide"
    }
   },
   "outputs": [],
   "source": []
  }
 ],
 "metadata": {
  "celltoolbar": "Slideshow",
  "kernelspec": {
   "display_name": "Python 3",
   "language": "python",
   "name": "python3"
  },
  "language_info": {
   "codemirror_mode": {
    "name": "ipython",
    "version": 3
   },
   "file_extension": ".py",
   "mimetype": "text/x-python",
   "name": "python",
   "nbconvert_exporter": "python",
   "pygments_lexer": "ipython3",
   "version": "3.6.1"
  }
 },
 "nbformat": 4,
 "nbformat_minor": 2
}
