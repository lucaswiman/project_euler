{
 "cells": [
  {
   "cell_type": "markdown",
   "metadata": {
    "slideshow": {
     "slide_type": "slide"
    }
   },
   "source": [
    "# Sympy & Risk Computation at Counsyl\n",
    "\n",
    "<b>Lucas Wiman</b>\n",
    "\n",
    "2018-02-15\n"
   ]
  },
  {
   "cell_type": "markdown",
   "metadata": {
    "slideshow": {
     "slide_type": "slide"
    }
   },
   "source": [
    "## Thanks\n",
    "- Risk code has many clever ideas, none original to me.\n",
    "- Many thanks to:\n",
    "  - @ksarn for writing the BTD risk computation & answering my many questions about it.\n",
    "  - @dan for helping me understand the risk code when I was deleriously tired."
   ]
  },
  {
   "cell_type": "markdown",
   "metadata": {
    "slideshow": {
     "slide_type": "slide"
    }
   },
   "source": [
    "## Background\n",
    "- Our risk code is complicated.\n",
    "- I had a lot of trouble understanding it.\n",
    "- I explored Sympy as a way of helping explain it.\n",
    "- It worked (kinda).\n",
    "- Anyway, Sympy is a useful tool you should know about if you do scientific computation."
   ]
  },
  {
   "cell_type": "markdown",
   "metadata": {
    "slideshow": {
     "slide_type": "slide"
    }
   },
   "source": [
    "## Sympy\n",
    "\n",
    "* Symbolic algebra package for python\n",
    "* Similar idea to Mathematica, though less powerful.\n",
    "* But it's in _python_, which makes it more useful.\n",
    "  * `pip install sympy`"
   ]
  },
  {
   "cell_type": "markdown",
   "metadata": {
    "slideshow": {
     "slide_type": "slide"
    }
   },
   "source": [
    "## Key features (opinionated)\n",
    "\n",
    "* Basic algebra\n",
    "* Basic calculus\n",
    "* LaTeX math formatting\n",
    "* Plotting"
   ]
  },
  {
   "cell_type": "code",
   "execution_count": 2,
   "metadata": {
    "collapsed": true,
    "slideshow": {
     "slide_type": "slide"
    }
   },
   "outputs": [],
   "source": [
    "from sympy import *\n",
    "import sympy\n",
    "# Sets up LaTeX output in jupyter notebook:\n",
    "init_printing()\n",
    "\n",
    "# Shows plots in jupyter notebook:\n",
    "%matplotlib inline\n",
    "from matplotlib import pyplot as plt\n",
    "\n",
    "x, y, z, n, m, k, i, j = symbols('x, y, z, n, m, k, i, j')\n",
    "t = Symbol('t')"
   ]
  },
  {
   "cell_type": "markdown",
   "metadata": {
    "slideshow": {
     "slide_type": "slide"
    }
   },
   "source": [
    "## \"I hate math\"\n",
    "\n",
    "* Think back to calculus\n",
    "* It was boring and repetitive"
   ]
  },
  {
   "cell_type": "markdown",
   "metadata": {
    "slideshow": {
     "slide_type": "fragment"
    }
   },
   "source": [
    "* Computers _kill it_ at boring and repetitive"
   ]
  },
  {
   "cell_type": "markdown",
   "metadata": {
    "slideshow": {
     "slide_type": "slide"
    }
   },
   "source": [
    "## Example: MacLaurin expansion\n",
    "\n",
    "Approximate some function with a polynomial:\n",
    "\n",
    "$$ f(x) = \\sum_{n=0}^\\infty \\frac{f^{(n)}(0)}{n!}x^n $$"
   ]
  },
  {
   "cell_type": "code",
   "execution_count": 4,
   "metadata": {
    "slideshow": {
     "slide_type": "slide"
    }
   },
   "outputs": [
    {
     "data": {
      "image/png": "[encoded data removed]",
      "text/latex": [
       "$$- \\frac{x^{15}}{1307674368000} + \\frac{x^{13}}{6227020800} - \\frac{x^{11}}{39916800} + \\frac{x^{9}}{362880} - \\frac{x^{7}}{5040} + \\frac{x^{5}}{120} - \\frac{x^{3}}{6} + x$$"
      ],
      "text/plain": [
       "        15            13          11         9       7      5    3    \n",
       "       x             x           x          x       x      x    x     \n",
       "- ───────────── + ────────── - ──────── + ────── - ──── + ─── - ── + x\n",
       "  1307674368000   6227020800   39916800   362880   5040   120   6     "
      ]
     },
     "execution_count": 4,
     "metadata": {},
     "output_type": "execute_result"
    }
   ],
   "source": [
    "def maclaurin(expression, symbol, n):\n",
    "    \"\"\"\n",
    "    Generate the nth MacLaurin polynomial for the\n",
    "    given ``expression`` with respect to ``symbol``.\n",
    "    \"\"\"\n",
    "    return expression.subs({symbol: 0}) + sum(\n",
    "        diff(expression, symbol, i).subs({symbol: 0}) / factorial(i) * (symbol ** i)\n",
    "        for i in range(1, n+1)\n",
    "    )\n",
    "\n",
    "maclaurin(sin(x), x, 15)"
   ]
  },
  {
   "cell_type": "code",
   "execution_count": 5,
   "metadata": {
    "slideshow": {
     "slide_type": "slide"
    }
   },
   "outputs": [
    {
     "data": {
      "image/png": "[encoded data removed]",
      "text/plain": [
       "<matplotlib.figure.Figure at 0x1158bc490>"
      ]
     },
     "metadata": {},
     "output_type": "display_data"
    }
   ],
   "source": [
    "p = plot(sin(x),\n",
    "         maclaurin(sin(x), x, 1),\n",
    "         maclaurin(sin(x), x, 7),\n",
    "         maclaurin(sin(x), x, 27),\n",
    "         (x, -4 * pi, 4 * pi), ylim=(-3, 3), show=False)\n",
    "p[0].line_color = 'red'\n",
    "p.show()"
   ]
  },
  {
   "cell_type": "markdown",
   "metadata": {
    "slideshow": {
     "slide_type": "slide"
    }
   },
   "source": [
    "## Example: debugging\n",
    "\n",
    "![image.png](./debugging.png)"
   ]
  },
  {
   "cell_type": "markdown",
   "metadata": {
    "slideshow": {
     "slide_type": "slide"
    }
   },
   "source": [
    "## Many hours lost\n",
    "![image.png](./hours-lost.png)"
   ]
  },
  {
   "cell_type": "markdown",
   "metadata": {
    "slideshow": {
     "slide_type": "slide"
    }
   },
   "source": [
    "## Much easier if you can see what the code is doing:\n",
    "```python\n",
    "from counsyl.product.science_genomics.models import *\n",
    "from sympy import *\n",
    "child = Child.objects.get(owner__orderkit__sample__barcode=barcode)\n",
    "[disease] = [d for d in Disease.objects.all() if d.is_g6pd]\n",
    "risk, namespace = get_symbolic_risk_and_namespace(child, disease)\n",
    "print('Reproductive risk is: %s' % risk.affected.subs(namespace))\n",
    "print(latex(risk.affected))\n",
    "print(namespace)\n",
    "print(latex(simplify(risk.affected)))\n",
    "```"
   ]
  },
  {
   "cell_type": "markdown",
   "metadata": {
    "slideshow": {
     "slide_type": "slide"
    }
   },
   "source": [
    "### Output\n",
    "\n",
    "```\n",
    "Reproductive risk is: 0.289473684210526\n",
    "{F_{\\textrm{SAS}}: 0.1, d_{\\textrm{SAS}}: 0.5}\n",
    "```\n",
    "$$ \\frac{F_{\\textrm{SAS}}^{2} d_{\\textrm{SAS}} \\left(- d_{\\textrm{SAS}} + 1\\right)}{2 F_{\\textrm{SAS}}^{2} d_{\\textrm{SAS}} \\left(- d_{\\textrm{SAS}} + 1\\right) + 2 F_{\\textrm{SAS}} d_{\\textrm{SAS}} \\left(- F_{\\textrm{SAS}} + 1\\right)} + \\frac{0.5 F_{\\textrm{SAS}} d_{\\textrm{SAS}} \\left(- F_{\\textrm{SAS}} + 1\\right)}{2 F_{\\textrm{SAS}}^{2} d_{\\textrm{SAS}} \\left(- d_{\\textrm{SAS}} + 1\\right) + 2 F_{\\textrm{SAS}} d_{\\textrm{SAS}} \\left(- F_{\\textrm{SAS}} + 1\\right)} + \\frac{F_{\\textrm{SAS}}}{2} \\left(\\frac{2 F_{\\textrm{SAS}}^{2} d_{\\textrm{SAS}} \\left(- d_{\\textrm{SAS}} + 1\\right)}{2 F_{\\textrm{SAS}}^{2} d_{\\textrm{SAS}} \\left(- d_{\\textrm{SAS}} + 1\\right) + 2 F_{\\textrm{SAS}} d_{\\textrm{SAS}} \\left(- F_{\\textrm{SAS}} + 1\\right)} + \\frac{1.0 F_{\\textrm{SAS}} d_{\\textrm{SAS}} \\left(- F_{\\textrm{SAS}} + 1\\right)}{2 F_{\\textrm{SAS}}^{2} d_{\\textrm{SAS}} \\left(- d_{\\textrm{SAS}} + 1\\right) + 2 F_{\\textrm{SAS}} d_{\\textrm{SAS}} \\left(- F_{\\textrm{SAS}} + 1\\right)}\\right) $$\n",
    "<hr>\n",
    "$$ \\frac{0.25}{F_{\\textrm{SAS}} d_{\\textrm{SAS}} - 1} \\left(2.0 F_{\\textrm{SAS}}^{2} d_{\\textrm{SAS}} - 1.0 F_{\\textrm{SAS}}^{2} + 2.0 F_{\\textrm{SAS}} d_{\\textrm{SAS}} - 2.0 F_{\\textrm{SAS}} - 1.0\\right) $$\n",
    "\n",
    "Here $F_{\\textrm{SAS}}$ is the deleterious allele frequency for G6PD among South Asians and $d_{\\textrm{SAS}}$ is the detection rate among South Asians."
   ]
  },
  {
   "cell_type": "markdown",
   "metadata": {
    "slideshow": {
     "slide_type": "slide"
    }
   },
   "source": [
    "## BTD Risk\n",
    "\n",
    "* BTD has complex genetics.\n",
    "  * D444H is a \"partial deficiency\" allele. It does not cause disease even when it's homozygous.\n",
    "  * _But_ there are some mutations that have accumulated on the same haplotype which are deleterious.\n",
    "* The risk computation is fairly simple, but the devil is in the details.\n",
    "* Someone is affected with BTD if:\n",
    "  1. They have D444H and some deleterious allele.\n",
    "  2. Unless that allele is one of A171T or F403V, in which case we assume only one copy of the gene is nonfunctional.\n",
    "  3. They have two deleterious alleles."
   ]
  },
  {
   "cell_type": "markdown",
   "metadata": {
    "slideshow": {
     "slide_type": "slide"
    }
   },
   "source": [
    "## BTD Risk\n",
    "* Usually the allele distribution has two elements: deleterious or not.\n",
    "* With BTD, it has 9 elements:\n",
    "  1. D444H\n",
    "  2. D444H in cis with F403V\n",
    "  3. D444H in cis with A171T\n",
    "  4. D444H in cis with some other pathogenic variant. (assumed kinda rare)\n",
    "  5. Some other pathogenic variant.\n",
    "  6. A171T alone, which happened one time and broke stuff. (assumed very rare)\n",
    "  7. No deleterious mutations.\n",
    "  8. D444H in cis with both F403V and an other pathogenic variant. (assumed very rare)\n",
    "  9. D444H in cis with both A171T and an other pathogenic variant. (assumed very rare)"
   ]
  },
  {
   "cell_type": "markdown",
   "metadata": {
    "slideshow": {
     "slide_type": "slide"
    }
   },
   "source": [
    "## This is too complicated for a GC to do while counseling a patient:\n",
    "![image.png](./too-complicated.png)"
   ]
  },
  {
   "cell_type": "markdown",
   "metadata": {
    "slideshow": {
     "slide_type": "slide"
    }
   },
   "source": [
    "### GC's want a big lookup table for all possible (test result, ethnicity pairs).\n",
    "* 11 ethnicities, 43 scenarios, so $11^2\\cdot 43 = 5,203$ cells in this lookup table.\n",
    "* For a couple, the code forms a probability distribution with $9^4=6,561$ elements, then applies a Bayesian update based on the interpretation of the calls and our detection rate.\n",
    "* The risk code is kinda slow at this.\n",
    "* Initial prototype: ~1hr to run to completion, improved it with ordinary profiling / ORM fixes.\n"
   ]
  },
  {
   "cell_type": "markdown",
   "metadata": {
    "slideshow": {
     "slide_type": "slide"
    }
   },
   "source": [
    "###  Idea\n",
    "\n",
    "Run the computation symbolically, then just substitute in the numbers for all the different ethnicities:\n",
    "![image.png](./sympy-speedup.png)"
   ]
  },
  {
   "cell_type": "markdown",
   "metadata": {
    "slideshow": {
     "slide_type": "slide"
    }
   },
   "source": [
    "## `lambidfy`\n",
    "\n",
    "Sympy lets you compile expressions into lambdas that it can then run pretty quickly."
   ]
  },
  {
   "cell_type": "markdown",
   "metadata": {
    "slideshow": {
     "slide_type": "slide"
    }
   },
   "source": [
    "## `lambdify`\n",
    "Simplified example:\n",
    "```python\n",
    "In [5]: expr = x**2 + x + 1\n",
    "   ...: namespace = {x: 1}\n",
    "   ...: %timeit expr.subs(namespace)\n",
    "The slowest run took 17.77 times longer than the fastest. This could mean that an intermediate result is being cached.\n",
    "10000 loops, best of 3: 84.3 µs per loop\n",
    "In [6]: lambdified = lambdify([x], expr)\n",
    "   ...: %timeit lambdified(1)\n",
    "   ...: \n",
    "10000000 loops, best of 3: 201 ns per loop\n",
    "```"
   ]
  },
  {
   "cell_type": "markdown",
   "metadata": {
    "slideshow": {
     "slide_type": "slide"
    }
   },
   "source": [
    "# How we compute pre- and post-test risk\n",
    "\n",
    "- This covers Foresight tests.\n",
    "- There are presumably differences for Reliant, and certainly for Prelude."
   ]
  },
  {
   "cell_type": "markdown",
   "metadata": {
    "slideshow": {
     "slide_type": "slide"
    }
   },
   "source": [
    "## Standard Mendelian Inheritance\n",
    "\n",
    "- We assume there are two kinds of haplotypes:\n",
    "    - Ones which contain one or more deleterious mutation (autosomal recessive, written a)\n",
    "    - Ones which contain no deleterious mutations (autosomal dominant, written A)\n",
    "- If we detect 1 mutation: patient is a carrier.\n",
    "- If we detect 2 or more mutations: patient is affected."
   ]
  },
  {
   "cell_type": "markdown",
   "metadata": {
    "slideshow": {
     "slide_type": "slide"
    }
   },
   "source": [
    "## Punnett Square - two heterozygotes\n",
    "<table>\n",
    "    <tr>\n",
    "        <td></td>\n",
    "        <th>a</th>\n",
    "        <th>A</th>\n",
    "    </tr>\n",
    "    <tr>\n",
    "        <th>a</th>\n",
    "        <td style=\"color: green;\">aa</td>\n",
    "        <td style=\"color: blue; font-weight: bold;\">aA</td>\n",
    "    </tr>\n",
    "    <tr>\n",
    "        <th>A</th>\n",
    "        <td style=\"color: blue; font-weight: bold;\">Aa</td>\n",
    "        <td><b style=\"color: red\">AA</b></td>\n",
    "    </tr>\n",
    "</table>\n",
    "\n",
    "Let $q$ denote the freqency of a, $p=1-q$ denote the frequency of A in the population. We have a _discrete probability distribution_ given by the table:\n",
    "<table>\n",
    "    <tr>\n",
    "        <th>$P(A)$&nbsp;&nbsp;&nbsp;&nbsp;&nbsp;&nbsp;&nbsp;&nbsp;&nbsp;</th>\n",
    "        <td>$p$</td>\n",
    "    </tr>\n",
    "    <tr>\n",
    "        <th>$P(a)$&nbsp;&nbsp;&nbsp;&nbsp;&nbsp;&nbsp;&nbsp;&nbsp;&nbsp;</th>\n",
    "        <td>$q$</td>\n",
    "    </tr>\n",
    "</table>"
   ]
  },
  {
   "cell_type": "code",
   "execution_count": 155,
   "metadata": {
    "slideshow": {
     "slide_type": "slide"
    }
   },
   "outputs": [
    {
     "data": {
      "text/plain": [
       "0    -q + 1\n",
       "1         q\n",
       "dtype: object"
      ]
     },
     "execution_count": 155,
     "metadata": {},
     "output_type": "execute_result"
    }
   ],
   "source": [
    "from counsyl.product.risk.calculation.transmission_scenarios.single_locus import AlleleProbability, GenotypeProbability\n",
    "q = Symbol('q')\n",
    "allele_prior = AlleleProbability({0: 1-q, 1: q})\n",
    "allele_prior"
   ]
  },
  {
   "cell_type": "markdown",
   "metadata": {
    "slideshow": {
     "slide_type": "slide"
    }
   },
   "source": [
    "Now we assume the two (diploid) alleles in an individual are drawn from independently, giving us the genotype prior as a product distribution:"
   ]
  },
  {
   "cell_type": "code",
   "execution_count": 154,
   "metadata": {
    "slideshow": {
     "slide_type": "fragment"
    }
   },
   "outputs": [
    {
     "data": {
      "text/plain": [
       "0  0    (-q + 1)**2\n",
       "   1     q*(-q + 1)\n",
       "1  0     q*(-q + 1)\n",
       "   1           q**2\n",
       "dtype: object"
      ]
     },
     "execution_count": 154,
     "metadata": {},
     "output_type": "execute_result"
    }
   ],
   "source": [
    "from counsyl.product.risk.calculation.math import get_product_distribution\n",
    "from counsyl.product.risk.constants import *\n",
    "from counsyl.product.risk.report import *\n",
    "product_distribution = get_product_distribution(allele_prior, allele_prior)\n",
    "product_distribution"
   ]
  },
  {
   "cell_type": "code",
   "execution_count": 153,
   "metadata": {
    "slideshow": {
     "slide_type": "slide"
    }
   },
   "outputs": [
    {
     "data": {
      "text/plain": [
       "0      (-q + 1)**2\n",
       "1     2*q*(-q + 1)\n",
       "2+            q**2\n",
       "dtype: object"
      ]
     },
     "execution_count": 153,
     "metadata": {},
     "output_type": "execute_result"
    }
   ],
   "source": [
    "genotype_prior = GenotypeProbability(\n",
    "    get_product_distribution(allele_prior, allele_prior)\n",
    "\n",
    "    # Sum the number of deleterious alleles.\n",
    "    .transform(sum)\n",
    "    \n",
    "    # Map counts to constants ued in computing risk.\n",
    "    .transform({0: ZERO, 1: ONE, 2: TWO_PLUS}))\n",
    "genotype_prior"
   ]
  },
  {
   "cell_type": "markdown",
   "metadata": {
    "slideshow": {
     "slide_type": "slide"
    }
   },
   "source": [
    "Recall that someone was _affected_ by the disease if and only if they have genotype \"2+\". In the `risk` code, this is called a `PhenotypeProbability`:"
   ]
  },
  {
   "cell_type": "code",
   "execution_count": 156,
   "metadata": {
    "slideshow": {
     "slide_type": "fragment"
    }
   },
   "outputs": [
    {
     "data": {
      "text/plain": [
       "affected              q**2\n",
       "carrier       2*q*(-q + 1)\n",
       "unaffected     (-q + 1)**2\n",
       "dtype: object"
      ]
     },
     "execution_count": 156,
     "metadata": {},
     "output_type": "execute_result"
    }
   ],
   "source": [
    "phenotype_prior = genotype_prior.get_phenotype_probability(inheritance_pattern='AR', sex=FEMALE)\n",
    "phenotype_prior"
   ]
  },
  {
   "cell_type": "markdown",
   "metadata": {
    "slideshow": {
     "slide_type": "slide"
    }
   },
   "source": [
    "## Getting to numbers\n",
    "\n",
    "- We don't know the distribution of deleterious alleles a priori.\n",
    "- We do have disease prevalence numbers.\n",
    "- And we have an algebraic expression for prevalence in terms of the allele frequency:\n",
    "$$\\textrm{prevalence} = q^2$$\n",
    "\n",
    "OK, that's pretty easy to solve, but let's use Sympy anyway, for kicks:"
   ]
  },
  {
   "cell_type": "code",
   "execution_count": 77,
   "metadata": {
    "slideshow": {
     "slide_type": "slide"
    }
   },
   "outputs": [
    {
     "data": {
      "image/png": "[encoded data removed]",
      "text/latex": [
       "$$prevalence = q^{2}$$"
      ],
      "text/plain": [
       "              2\n",
       "prevalence = q "
      ]
     },
     "execution_count": 77,
     "metadata": {},
     "output_type": "execute_result"
    }
   ],
   "source": [
    "from sympy import solveset, S, assuming, Q, Eq\n",
    "prevalence = Symbol('prevalence')\n",
    "prevalence_equation = Eq(prevalence, phenotype_prior['affected'])\n",
    "prevalence_equation"
   ]
  },
  {
   "cell_type": "code",
   "execution_count": 78,
   "metadata": {
    "slideshow": {
     "slide_type": "fragment"
    }
   },
   "outputs": [
    {
     "data": {
      "image/png": "[encoded data removed]",
      "text/latex": [
       "$$\\left [ - \\sqrt{prevalence}, \\quad \\sqrt{prevalence}\\right ]$$"
      ],
      "text/plain": [
       "⎡   ____________    ____________⎤\n",
       "⎣-╲╱ prevalence , ╲╱ prevalence ⎦"
      ]
     },
     "execution_count": 78,
     "metadata": {},
     "output_type": "execute_result"
    }
   ],
   "source": [
    "solve(prevalence_equation, q)"
   ]
  },
  {
   "cell_type": "markdown",
   "metadata": {
    "slideshow": {
     "slide_type": "slide"
    }
   },
   "source": [
    "One of these solutions makes no sense: probabilities can't be negative! How do we get sympy to see this"
   ]
  },
  {
   "cell_type": "code",
   "execution_count": 83,
   "metadata": {
    "collapsed": true,
    "slideshow": {
     "slide_type": "fragment"
    }
   },
   "outputs": [],
   "source": [
    "q, prevalence = symbols('q, prevalence', positive=True)"
   ]
  },
  {
   "cell_type": "code",
   "execution_count": 88,
   "metadata": {
    "slideshow": {
     "slide_type": "fragment"
    }
   },
   "outputs": [
    {
     "data": {
      "image/png": "[encoded data removed]",
      "text/latex": [
       "$$\\sqrt{prevalence}$$"
      ],
      "text/plain": [
       "  ____________\n",
       "╲╱ prevalence "
      ]
     },
     "execution_count": 88,
     "metadata": {},
     "output_type": "execute_result"
    }
   ],
   "source": [
    "[solution] = solve(Eq(q ** 2, prevalence), q)\n",
    "solution"
   ]
  },
  {
   "cell_type": "code",
   "execution_count": 89,
   "metadata": {
    "slideshow": {
     "slide_type": "fragment"
    }
   },
   "outputs": [
    {
     "data": {
      "image/png": "[encoded data removed]",
      "text/latex": [
       "$$0.014142135623731$$"
      ],
      "text/plain": [
       "0.0141421356237310"
      ]
     },
     "execution_count": 89,
     "metadata": {},
     "output_type": "execute_result"
    }
   ],
   "source": [
    "solution.subs({prevalence: 1./5000})"
   ]
  },
  {
   "cell_type": "markdown",
   "metadata": {
    "slideshow": {
     "slide_type": "slide"
    }
   },
   "source": [
    "## \"Harder\" example\n",
    "\n",
    "That's pretty easy in this case, but we use the same idea in NPHS2:"
   ]
  },
  {
   "cell_type": "code",
   "execution_count": 85,
   "metadata": {
    "slideshow": {
     "slide_type": "fragment"
    }
   },
   "outputs": [
    {
     "data": {
      "image/png": "[encoded data removed]",
      "text/latex": [
       "$$prevalence = F_{C}^{2} + 2 F_{C} F_{\\textrm{OP}} + 2 F_{C} F_{\\textrm{R229Q},\\textrm{OP}} + 2 F_{C} F_{\\textrm{R229Q}} + F_{\\textrm{OP}}^{2} + 2 F_{\\textrm{OP}} F_{\\textrm{R229Q},\\textrm{OP}} + F_{\\textrm{R229Q},\\textrm{OP}}^{2}$$"
      ],
      "text/plain": [
       "                  2                                                           \n",
       "prevalence = F_{C}  + 2⋅F_{C}⋅F_{\\textrm{OP}} + 2⋅F_{C}⋅F_{\\textrm{R229Q},\\tex\n",
       "\n",
       "                                                       2                      \n",
       "trm{OP}} + 2⋅F_{C}⋅F_{\\textrm{R229Q}} + F_{\\textrm{OP}}  + 2⋅F_{\\textrm{OP}}⋅F\n",
       "\n",
       "                                                              2\n",
       "_{\\textrm{R229Q},\\textrm{OP}} + F_{\\textrm{R229Q},\\textrm{OP}} "
      ]
     },
     "execution_count": 85,
     "metadata": {},
     "output_type": "execute_result"
    }
   ],
   "source": [
    "from counsyl.product.risk.calculation.transmission_scenarios import nphs2\n",
    "nphs2.get_prevalence_equation()"
   ]
  },
  {
   "cell_type": "code",
   "execution_count": 86,
   "metadata": {
    "slideshow": {
     "slide_type": "fragment"
    }
   },
   "outputs": [
    {
     "data": {
      "image/png": "[encoded data removed]",
      "text/latex": [
       "$$\\left [ - F_{C} - F_{\\textrm{R229Q},\\textrm{OP}} - \\sqrt{- 2 F_{C} F_{\\textrm{R229Q}} + prevalence}, \\quad - F_{C} - F_{\\textrm{R229Q},\\textrm{OP}} + \\sqrt{- 2 F_{C} F_{\\textrm{R229Q}} + prevalence}\\right ]$$"
      ],
      "text/plain": [
       "⎡                                            _________________________________\n",
       "⎣-F_{C} - F_{\\textrm{R229Q},\\textrm{OP}} - ╲╱ -2⋅F_{C}⋅F_{\\textrm{R229Q}} + pr\n",
       "\n",
       "_________                                              _______________________\n",
       "evalence , -F_{C} - F_{\\textrm{R229Q},\\textrm{OP}} + ╲╱ -2⋅F_{C}⋅F_{\\textrm{R2\n",
       "\n",
       "___________________⎤\n",
       "29Q}} + prevalence ⎦"
      ]
     },
     "execution_count": 86,
     "metadata": {},
     "output_type": "execute_result"
    }
   ],
   "source": [
    "solve(nphs2.get_prevalence_equation(), nphs2.OTHER_PATHOGENIC.get_symbol())"
   ]
  },
  {
   "cell_type": "markdown",
   "metadata": {
    "slideshow": {
     "slide_type": "fragment"
    }
   },
   "source": [
    "This is actually just the quadratic formula you learned in high school, but with less tedium and algebraic manipulation."
   ]
  },
  {
   "cell_type": "markdown",
   "metadata": {
    "slideshow": {
     "slide_type": "slide"
    }
   },
   "source": [
    "## Post-test risk: Detection Rate\n",
    "\n",
    "The detection rate is the probability of observing a deleterious variant _given that it is present_. In symbols:\n",
    "$$\n",
    "P(\\textrm{observed}\\ |\\ \\textrm{present})\n",
    "$$"
   ]
  },
  {
   "cell_type": "markdown",
   "metadata": {
    "slideshow": {
     "slide_type": "slide"
    }
   },
   "source": [
    "## Detection Rate: Fun facts\n",
    "\n",
    "- This is the _analytical_ detection rate. For the purposes of reported risk nubmers, we ignore how likely we are to successfully classify a VUS as deleterious.\n",
    "- We never use a detection rate >99%.\n",
    "- For sequencing, the detection rate is computed as:\n",
    "\n",
    "\\begin{align}\n",
    "           \\textrm{detection rate} &= 1 - P(\\textrm{undetected}\\ |\\ \\textrm{present}) \\\\\n",
    "P(\\textrm{undetected}\\ |\\ \\textrm{present}) &= (\\textrm{del rate})(1 - \\textrm{del sensitivity}) \\\\\n",
    "                                   & \\quad + (\\textrm{dup rate})(1-\\textrm{dup sensitivity}) \\\\\n",
    "                                   & \\quad + (\\textrm{other structural variant rate})(1 - \\textrm{other struct sensitivity}) \\\\\n",
    "\\end{align}"
   ]
  },
  {
   "cell_type": "markdown",
   "metadata": {
    "slideshow": {
     "slide_type": "slide"
    }
   },
   "source": [
    "## Residual Carrier Risk\n",
    "\n",
    "We want to know how likely it is that we missed a deleterious mutation that is present. We want to know:\n",
    "$$\n",
    "P(\\textrm{genotype}\\in \\{aa, aA\\})\\ |\\ AA\\ \\textrm{observed})\n",
    "$$ "
   ]
  },
  {
   "cell_type": "markdown",
   "metadata": {
    "slideshow": {
     "slide_type": "slide"
    }
   },
   "source": [
    "## Example\n",
    "\n",
    "- We did not detect any deleterious mutations in a patient.\n",
    "- Disease prevalence of 1/10,000.\n",
    "- Detection rate 99%."
   ]
  },
  {
   "cell_type": "markdown",
   "metadata": {
    "slideshow": {
     "slide_type": "slide"
    }
   },
   "source": [
    "## Bae's theorem \n",
    "$$\n",
    "P(\\textrm{chill}\\ |\\ \\textrm{netflix}) = \\frac{P(\\textrm{netflix}\\ |\\ \\textrm{chill})P(\\textrm{chill})}{P(\\textrm{netflix})}\n",
    "$$\n",
    "(h/t @alittlestats https://twitter.com/alittlestats/status/664923862853922820)"
   ]
  },
  {
   "cell_type": "markdown",
   "metadata": {
    "slideshow": {
     "slide_type": "slide"
    }
   },
   "source": [
    "## Bayes' theorem \n",
    "$$\n",
    "P(A\\ |\\ B) = \\frac{P(B\\ |\\ A)P(A)}{P(B)}\n",
    "$$\n",
    "(h/t @alittlestats https://twitter.com/alittlestats/status/664923862853922820)"
   ]
  },
  {
   "cell_type": "markdown",
   "metadata": {
    "slideshow": {
     "slide_type": "slide"
    }
   },
   "source": [
    "## We know enough probabilities to use Bayes' theorem:\n",
    "\\begin{align}\n",
    "P(\\textrm{genotype}\\in \\{aa, aA\\})\\ |\\ AA\\ \\textrm{observed}) &= P(\\textrm{genotype}=aa)\\ |\\ AA\\ \\textrm{observed}) + P(\\textrm{genotype}=Aa\\ |\\ AA\\ \\textrm{observed}) \\\\\n",
    "P(\\textrm{genotype}=Aa\\ |\\ AA\\ \\textrm{observed}) &= \\frac{P(AA\\ \\textrm{observed}\\ |\\ \\textrm{genotype}=Aa)P(\\textrm{genotype}=Aa)}{P(AA\\ \\textrm{observed})} \\\\\n",
    "P(AA\\ \\textrm{observed}\\ |\\ \\textrm{genotype}=Aa) &= 1-\\textrm{d} \\\\\n",
    "P(\\textrm{genotype}=Aa)) &= 2q(1-q)\n",
    "\\end{align}\n",
    "etc..."
   ]
  },
  {
   "cell_type": "markdown",
   "metadata": {
    "slideshow": {
     "slide_type": "slide"
    }
   },
   "source": [
    "# How to get the probability of observing AA?\n",
    "$P(AA\\ \\textrm{observed})$\n",
    "\n",
    "There are three ways we can see this genotype:\n",
    "\n",
    "1. The patient is actually negative: $(1-q)^2$\n",
    "2. The patient has one allele and we missed it: $2(1-q)(q\\cdot (1-d))$\n",
    "3. The patient has two alleles and we missed both: $q^2(1-d)^2$"
   ]
  },
  {
   "cell_type": "markdown",
   "metadata": {
    "slideshow": {
     "slide_type": "slide"
    }
   },
   "source": [
    "## Example\n",
    "\n",
    "- We did not detect any deleterious mutations in a patient.\n",
    "- Disease prevalence of 1/10,000.\n",
    "- Detection rate 99%."
   ]
  },
  {
   "cell_type": "code",
   "execution_count": 120,
   "metadata": {
    "slideshow": {
     "slide_type": "slide"
    }
   },
   "outputs": [
    {
     "data": {
      "text/plain": [
       "0      (-q + 1)**2\n",
       "1     2*q*(-q + 1)\n",
       "2+            q**2\n",
       "dtype: object"
      ]
     },
     "execution_count": 120,
     "metadata": {},
     "output_type": "execute_result"
    }
   ],
   "source": [
    "genotype_prior"
   ]
  },
  {
   "cell_type": "code",
   "execution_count": 123,
   "metadata": {
    "slideshow": {
     "slide_type": "slide"
    }
   },
   "outputs": [
    {
     "data": {
      "text/plain": [
       "0     1.0*(-q + 1)**2/(q**2*(-d + 1)**2 + 2*q*(-d + ...\n",
       "1     2*q*(-d + 1)*(-q + 1)/(q**2*(-d + 1)**2 + 2*q*...\n",
       "2+    q**2*(-d + 1)**2/(q**2*(-d + 1)**2 + 2*q*(-d +...\n",
       "dtype: object"
      ]
     },
     "execution_count": 123,
     "metadata": {},
     "output_type": "execute_result"
    }
   ],
   "source": [
    "detection_rate = Symbol('d')\n",
    "genotype_posterior = genotype_prior.update({\n",
    "    ZERO: 1.0,  # We don't observe things that aren't there.\n",
    "    ONE: 1-detection_rate,  # We didn't see the allele that was there.\n",
    "    TWO_PLUS: (1-detection_rate) ** 2,  # We missed both alleles that were there.\n",
    "})\n",
    "genotype_posterior"
   ]
  },
  {
   "cell_type": "code",
   "execution_count": 124,
   "metadata": {
    "slideshow": {
     "slide_type": "slide"
    }
   },
   "outputs": [
    {
     "data": {
      "text/plain": [
       "affected      q**2*(-d + 1)**2/(q**2*(-d + 1)**2 + 2*q*(-d +...\n",
       "carrier       2*q*(-d + 1)*(-q + 1)/(q**2*(-d + 1)**2 + 2*q*...\n",
       "unaffected    1.0*(-q + 1)**2/(q**2*(-d + 1)**2 + 2*q*(-d + ...\n",
       "dtype: object"
      ]
     },
     "execution_count": 124,
     "metadata": {},
     "output_type": "execute_result"
    }
   ],
   "source": [
    "genotype_posterior.get_phenotype_probability(inheritance_pattern='AR', sex=FEMALE)"
   ]
  },
  {
   "cell_type": "code",
   "execution_count": 147,
   "metadata": {
    "slideshow": {
     "slide_type": "subslide"
    }
   },
   "outputs": [
    {
     "data": {
      "image/png": "[encoded data removed]",
      "text/latex": [
       "$$\\frac{q^{2} \\left(- d + 1\\right)^{2}}{q^{2} \\left(- d + 1\\right)^{2} + 2 q \\left(- d + 1\\right) \\left(- q + 1\\right) + 1.0 \\left(- q + 1\\right)^{2}} + \\frac{2 q \\left(- d + 1\\right) \\left(- q + 1\\right)}{q^{2} \\left(- d + 1\\right)^{2} + 2 q \\left(- d + 1\\right) \\left(- q + 1\\right) + 1.0 \\left(- q + 1\\right)^{2}}$$"
      ],
      "text/plain": [
       "                     2         2                                              \n",
       "                    q ⋅(-d + 1)                                       2⋅q⋅(-d \n",
       "──────────────────────────────────────────────────── + ───────────────────────\n",
       " 2         2                                       2    2         2           \n",
       "q ⋅(-d + 1)  + 2⋅q⋅(-d + 1)⋅(-q + 1) + 1.0⋅(-q + 1)    q ⋅(-d + 1)  + 2⋅q⋅(-d \n",
       "\n",
       "                             \n",
       "+ 1)⋅(-q + 1)                \n",
       "─────────────────────────────\n",
       "                            2\n",
       "+ 1)⋅(-q + 1) + 1.0⋅(-q + 1) "
      ]
     },
     "execution_count": 147,
     "metadata": {},
     "output_type": "execute_result"
    }
   ],
   "source": [
    "pheno_posterior = genotype_posterior.get_phenotype_probability(inheritance_pattern='AR', sex=FEMALE)\n",
    "symbolic_carrier_risk = pheno_posterior['carrier'] + pheno_posterior['affected']\n",
    "symbolic_carrier_risk"
   ]
  },
  {
   "cell_type": "code",
   "execution_count": 157,
   "metadata": {},
   "outputs": [
    {
     "data": {
      "text/plain": [
       "(0.000201989597020604, u'1 in 5,000')"
      ]
     },
     "execution_count": 157,
     "metadata": {},
     "output_type": "execute_result"
    }
   ],
   "source": [
    "residual_risk = symbolic_carrier_risk.subs({\n",
    "    'q': sqrt(1 / 10000.),\n",
    "    'd': 0.99\n",
    "})\n",
    "from counsyl.product.common.templatetags.counsyl_tags import pretty_one_in\n",
    "residual_risk, pretty_one_in(float(residual_risk.evalf()))"
   ]
  },
  {
   "cell_type": "markdown",
   "metadata": {
    "slideshow": {
     "slide_type": "slide"
    }
   },
   "source": [
    "## Reproductive risk\n",
    "Similar, but a bit more complicated.\n",
    "\n",
    "- Perform bayesian update on each patient's genotype prior.\n",
    "- Simulate meiosis to get an allele distribution the gametes from each parent.\n",
    "- Fertilize the two allele distributions to get a genotype distribution on the child. ❤️\n",
    "- Convert genotypes to phenotypes, and look at `affected`."
   ]
  },
  {
   "cell_type": "code",
   "execution_count": 149,
   "metadata": {
    "slideshow": {
     "slide_type": "slide"
    }
   },
   "outputs": [
    {
     "data": {
      "text/plain": [
       "0    1.0*q*(-d + 1)*(-q + 1)/(q**2*(-d + 1)**2 + 2*...\n",
       "1    q**2*(-d + 1)**2/(q**2*(-d + 1)**2 + 2*q*(-d +...\n",
       "dtype: object"
      ]
     },
     "execution_count": 149,
     "metadata": {},
     "output_type": "execute_result"
    }
   ],
   "source": [
    "genotype_posterior.allele_transmission_probability"
   ]
  },
  {
   "cell_type": "code",
   "execution_count": 150,
   "metadata": {
    "slideshow": {
     "slide_type": "slide"
    }
   },
   "outputs": [
    {
     "data": {
      "text/plain": [
       "0     (1.0*q*(-d + 1)*(-q + 1)/(q**2*(-d + 1)**2 + 2...\n",
       "1     2*(q**2*(-d + 1)**2/(q**2*(-d + 1)**2 + 2*q*(-...\n",
       "2+    (q**2*(-d + 1)**2/(q**2*(-d + 1)**2 + 2*q*(-d ...\n",
       "dtype: object"
      ]
     },
     "execution_count": 150,
     "metadata": {},
     "output_type": "execute_result"
    }
   ],
   "source": [
    "gamete_dist = genotype_posterior.allele_transmission_probability\n",
    "child_genotype_dist = GenotypeProbability(\n",
    "    get_product_distribution(gamete_dist, gamete_dist)\n",
    "\n",
    "    # Sum the number of deleterious alleles.\n",
    "    .transform(sum)\n",
    "    \n",
    "    # Map counts to constants ued in computing risk.\n",
    "    .transform({0: ZERO, 1: ONE, 2: TWO_PLUS}))\n",
    "child_genotype_dist"
   ]
  },
  {
   "cell_type": "code",
   "execution_count": 151,
   "metadata": {
    "slideshow": {
     "slide_type": "slide"
    }
   },
   "outputs": [
    {
     "data": {
      "image/png": "[encoded data removed]",
      "text/latex": [
       "$$\\left(\\frac{q^{2} \\left(- d + 1\\right)^{2}}{q^{2} \\left(- d + 1\\right)^{2} + 2 q \\left(- d + 1\\right) \\left(- q + 1\\right) + 1.0 \\left(- q + 1\\right)^{2}} + \\frac{1.0 q \\left(- d + 1\\right) \\left(- q + 1\\right)}{q^{2} \\left(- d + 1\\right)^{2} + 2 q \\left(- d + 1\\right) \\left(- q + 1\\right) + 1.0 \\left(- q + 1\\right)^{2}}\\right)^{2}$$"
      ],
      "text/plain": [
       "                                                                              \n",
       "⎛                     2         2                                             \n",
       "⎜                    q ⋅(-d + 1)                                      1.0⋅q⋅(-\n",
       "⎜──────────────────────────────────────────────────── + ──────────────────────\n",
       "⎜ 2         2                                       2    2         2          \n",
       "⎝q ⋅(-d + 1)  + 2⋅q⋅(-d + 1)⋅(-q + 1) + 1.0⋅(-q + 1)    q ⋅(-d + 1)  + 2⋅q⋅(-d\n",
       "\n",
       "                               2\n",
       "                              ⎞ \n",
       "d + 1)⋅(-q + 1)               ⎟ \n",
       "──────────────────────────────⎟ \n",
       "                             2⎟ \n",
       " + 1)⋅(-q + 1) + 1.0⋅(-q + 1) ⎠ "
      ]
     },
     "execution_count": 151,
     "metadata": {},
     "output_type": "execute_result"
    }
   ],
   "source": [
    "pheno_dist = child_genotype_dist.get_phenotype_probability(inheritance_pattern='AR', sex=FEMALE)\n",
    "pheno_dist['affected']"
   ]
  },
  {
   "cell_type": "code",
   "execution_count": 152,
   "metadata": {
    "slideshow": {
     "slide_type": "subslide"
    }
   },
   "outputs": [
    {
     "data": {
      "text/plain": [
       "u'&lt; 1 in 1,000,000'"
      ]
     },
     "execution_count": 152,
     "metadata": {},
     "output_type": "execute_result"
    }
   ],
   "source": [
    "pretty_one_in(float(pheno_dist['affected'].subs({\n",
    "    'q': sqrt(1 / 10000.),\n",
    "    'd': 0.99\n",
    "})))"
   ]
  },
  {
   "cell_type": "markdown",
   "metadata": {
    "slideshow": {
     "slide_type": "slide"
    }
   },
   "source": [
    "# Sympy Gotchas\n",
    "\n",
    "Equality is kinda weird."
   ]
  },
  {
   "cell_type": "code",
   "execution_count": 91,
   "metadata": {
    "slideshow": {
     "slide_type": "fragment"
    }
   },
   "outputs": [
    {
     "data": {
      "text/plain": [
       "False"
      ]
     },
     "execution_count": 91,
     "metadata": {},
     "output_type": "execute_result"
    }
   ],
   "source": [
    "sin(x) ** 2 + cos(x) ** 2 == 1"
   ]
  },
  {
   "cell_type": "code",
   "execution_count": 92,
   "metadata": {
    "slideshow": {
     "slide_type": "fragment"
    }
   },
   "outputs": [
    {
     "data": {
      "text/plain": [
       "True"
      ]
     },
     "execution_count": 92,
     "metadata": {},
     "output_type": "execute_result"
    }
   ],
   "source": [
    "simplify(sin(x) ** 2 + cos(x) ** 2 - 1) == 0"
   ]
  },
  {
   "cell_type": "markdown",
   "metadata": {
    "slideshow": {
     "slide_type": "slide"
    }
   },
   "source": [
    "## Return types are weird\n",
    "\n",
    "Though it usually doesn't matter"
   ]
  },
  {
   "cell_type": "code",
   "execution_count": 105,
   "metadata": {
    "slideshow": {
     "slide_type": "fragment"
    }
   },
   "outputs": [
    {
     "data": {
      "text/plain": [
       "sympy.core.numbers.NegativeOne"
      ]
     },
     "execution_count": 105,
     "metadata": {},
     "output_type": "execute_result"
    }
   ],
   "source": [
    "type(cos(x).subs({x: pi}))"
   ]
  },
  {
   "cell_type": "code",
   "execution_count": 135,
   "metadata": {
    "slideshow": {
     "slide_type": "subslide"
    }
   },
   "outputs": [
    {
     "ename": "TypeError",
     "evalue": "Cannot convert 0.000201979396041006 to Decimal",
     "output_type": "error",
     "traceback": [
      "\u001b[0;31m---------------------------------------------------------------------------\u001b[0m",
      "\u001b[0;31mTypeError\u001b[0m                                 Traceback (most recent call last)",
      "\u001b[0;32m<ipython-input-135-795c8c83b97d>\u001b[0m in \u001b[0;36m<module>\u001b[0;34m()\u001b[0m\n\u001b[0;32m----> 1\u001b[0;31m \u001b[0mpretty_one_in\u001b[0m\u001b[0;34m(\u001b[0m\u001b[0mresidual_risk\u001b[0m\u001b[0;34m)\u001b[0m\u001b[0;34m\u001b[0m\u001b[0m\n\u001b[0m",
      "\u001b[0;32m/Users/lucaswiman/counsyl/website/counsyl/product/common/templatetags/counsyl_tags.py\u001b[0m in \u001b[0;36mpretty_one_in\u001b[0;34m(odds, options, CUTOFF, SIGDIGITS)\u001b[0m\n\u001b[1;32m    492\u001b[0m         \u001b[0;32mraise\u001b[0m \u001b[0mValueError\u001b[0m\u001b[0;34m(\u001b[0m\u001b[0;34m\"Cannot pretty_one_in for odds=None\"\u001b[0m\u001b[0;34m)\u001b[0m\u001b[0;34m\u001b[0m\u001b[0m\n\u001b[1;32m    493\u001b[0m \u001b[0;34m\u001b[0m\u001b[0m\n\u001b[0;32m--> 494\u001b[0;31m     \u001b[0mdecimal_odds\u001b[0m \u001b[0;34m=\u001b[0m \u001b[0mD\u001b[0m\u001b[0;34m(\u001b[0m\u001b[0modds\u001b[0m\u001b[0;34m)\u001b[0m\u001b[0;34m\u001b[0m\u001b[0m\n\u001b[0m\u001b[1;32m    495\u001b[0m     \u001b[0moptions\u001b[0m \u001b[0;34m=\u001b[0m \u001b[0;34m[\u001b[0m\u001b[0moption\u001b[0m\u001b[0;34m.\u001b[0m\u001b[0mstrip\u001b[0m\u001b[0;34m(\u001b[0m\u001b[0;34m)\u001b[0m \u001b[0;32mfor\u001b[0m \u001b[0moption\u001b[0m \u001b[0;32min\u001b[0m \u001b[0moptions\u001b[0m\u001b[0;34m.\u001b[0m\u001b[0msplit\u001b[0m\u001b[0;34m(\u001b[0m\u001b[0;34m','\u001b[0m\u001b[0;34m)\u001b[0m\u001b[0;34m]\u001b[0m\u001b[0;31m \u001b[0m\u001b[0;31m\\\u001b[0m\u001b[0;34m\u001b[0m\u001b[0m\n\u001b[1;32m    496\u001b[0m         \u001b[0;32mif\u001b[0m \u001b[0moptions\u001b[0m \u001b[0;32melse\u001b[0m \u001b[0;34m(\u001b[0m\u001b[0;34m)\u001b[0m\u001b[0;34m\u001b[0m\u001b[0m\n",
      "\u001b[0;32m/Users/lucaswiman/.pyenv/versions/2.7/lib/python2.7/decimal.pyc\u001b[0m in \u001b[0;36m__new__\u001b[0;34m(cls, value, context)\u001b[0m\n\u001b[1;32m    655\u001b[0m             \u001b[0;32mreturn\u001b[0m \u001b[0mself\u001b[0m\u001b[0;34m\u001b[0m\u001b[0m\n\u001b[1;32m    656\u001b[0m \u001b[0;34m\u001b[0m\u001b[0m\n\u001b[0;32m--> 657\u001b[0;31m         \u001b[0;32mraise\u001b[0m \u001b[0mTypeError\u001b[0m\u001b[0;34m(\u001b[0m\u001b[0;34m\"Cannot convert %r to Decimal\"\u001b[0m \u001b[0;34m%\u001b[0m \u001b[0mvalue\u001b[0m\u001b[0;34m)\u001b[0m\u001b[0;34m\u001b[0m\u001b[0m\n\u001b[0m\u001b[1;32m    658\u001b[0m \u001b[0;34m\u001b[0m\u001b[0m\n\u001b[1;32m    659\u001b[0m     \u001b[0;31m# @classmethod, but @decorator is not valid Python 2.3 syntax, so\u001b[0m\u001b[0;34m\u001b[0m\u001b[0;34m\u001b[0m\u001b[0m\n",
      "\u001b[0;31mTypeError\u001b[0m: Cannot convert 0.000201979396041006 to Decimal"
     ]
    }
   ],
   "source": [
    "pretty_one_in(residual_risk)"
   ]
  },
  {
   "cell_type": "markdown",
   "metadata": {
    "slideshow": {
     "slide_type": "slide"
    }
   },
   "source": [
    "## Wonky in django templates"
   ]
  },
  {
   "cell_type": "code",
   "execution_count": 158,
   "metadata": {
    "slideshow": {
     "slide_type": "fragment"
    }
   },
   "outputs": [
    {
     "ename": "ValueError",
     "evalue": "max() arg is an empty sequence",
     "output_type": "error",
     "traceback": [
      "\u001b[0;31m---------------------------------------------------------------------------\u001b[0m",
      "\u001b[0;31mValueError\u001b[0m                                Traceback (most recent call last)",
      "\u001b[0;32m<ipython-input-158-b3ee928d6173>\u001b[0m in \u001b[0;36m<module>\u001b[0;34m()\u001b[0m\n\u001b[1;32m      1\u001b[0m \u001b[0;32mfrom\u001b[0m \u001b[0mdjango\u001b[0m\u001b[0;34m.\u001b[0m\u001b[0mtemplate\u001b[0m\u001b[0;34m.\u001b[0m\u001b[0mbase\u001b[0m \u001b[0;32mimport\u001b[0m \u001b[0mTemplate\u001b[0m\u001b[0;34m,\u001b[0m \u001b[0mContext\u001b[0m\u001b[0;34m\u001b[0m\u001b[0m\n\u001b[1;32m      2\u001b[0m \u001b[0mtemplate\u001b[0m \u001b[0;34m=\u001b[0m \u001b[0mTemplate\u001b[0m\u001b[0;34m(\u001b[0m\u001b[0;34m\"Let the prevalence be denoted by ${{ prevalence_var }}$.\"\u001b[0m\u001b[0;34m)\u001b[0m\u001b[0;34m\u001b[0m\u001b[0m\n\u001b[0;32m----> 3\u001b[0;31m \u001b[0mtemplate\u001b[0m\u001b[0;34m.\u001b[0m\u001b[0mrender\u001b[0m\u001b[0;34m(\u001b[0m\u001b[0mcontext\u001b[0m\u001b[0;34m=\u001b[0m\u001b[0mContext\u001b[0m\u001b[0;34m(\u001b[0m\u001b[0;34m{\u001b[0m\u001b[0;34m'prevalence_var'\u001b[0m\u001b[0;34m:\u001b[0m \u001b[0mSymbol\u001b[0m\u001b[0;34m(\u001b[0m\u001b[0;34m'\\alpha'\u001b[0m\u001b[0;34m)\u001b[0m\u001b[0;34m}\u001b[0m\u001b[0;34m)\u001b[0m\u001b[0;34m)\u001b[0m\u001b[0;34m\u001b[0m\u001b[0m\n\u001b[0m",
      "\u001b[0;32m/Users/lucaswiman/counsyl/website/vendor/venv/lib/python2.7/site-packages/django/template/base.pyc\u001b[0m in \u001b[0;36mrender\u001b[0;34m(self, context)\u001b[0m\n\u001b[1;32m    204\u001b[0m                 \u001b[0;32mwith\u001b[0m \u001b[0mcontext\u001b[0m\u001b[0;34m.\u001b[0m\u001b[0mbind_template\u001b[0m\u001b[0;34m(\u001b[0m\u001b[0mself\u001b[0m\u001b[0;34m)\u001b[0m\u001b[0;34m:\u001b[0m\u001b[0;34m\u001b[0m\u001b[0m\n\u001b[1;32m    205\u001b[0m                     \u001b[0mcontext\u001b[0m\u001b[0;34m.\u001b[0m\u001b[0mtemplate_name\u001b[0m \u001b[0;34m=\u001b[0m \u001b[0mself\u001b[0m\u001b[0;34m.\u001b[0m\u001b[0mname\u001b[0m\u001b[0;34m\u001b[0m\u001b[0m\n\u001b[0;32m--> 206\u001b[0;31m                     \u001b[0;32mreturn\u001b[0m \u001b[0mself\u001b[0m\u001b[0;34m.\u001b[0m\u001b[0m_render\u001b[0m\u001b[0;34m(\u001b[0m\u001b[0mcontext\u001b[0m\u001b[0;34m)\u001b[0m\u001b[0;34m\u001b[0m\u001b[0m\n\u001b[0m\u001b[1;32m    207\u001b[0m             \u001b[0;32melse\u001b[0m\u001b[0;34m:\u001b[0m\u001b[0;34m\u001b[0m\u001b[0m\n\u001b[1;32m    208\u001b[0m                 \u001b[0;32mreturn\u001b[0m \u001b[0mself\u001b[0m\u001b[0;34m.\u001b[0m\u001b[0m_render\u001b[0m\u001b[0;34m(\u001b[0m\u001b[0mcontext\u001b[0m\u001b[0;34m)\u001b[0m\u001b[0;34m\u001b[0m\u001b[0m\n",
      "\u001b[0;32m/Users/lucaswiman/counsyl/website/vendor/venv/lib/python2.7/site-packages/django/template/base.pyc\u001b[0m in \u001b[0;36m_render\u001b[0;34m(self, context)\u001b[0m\n\u001b[1;32m    195\u001b[0m \u001b[0;34m\u001b[0m\u001b[0m\n\u001b[1;32m    196\u001b[0m     \u001b[0;32mdef\u001b[0m \u001b[0m_render\u001b[0m\u001b[0;34m(\u001b[0m\u001b[0mself\u001b[0m\u001b[0;34m,\u001b[0m \u001b[0mcontext\u001b[0m\u001b[0;34m)\u001b[0m\u001b[0;34m:\u001b[0m\u001b[0;34m\u001b[0m\u001b[0m\n\u001b[0;32m--> 197\u001b[0;31m         \u001b[0;32mreturn\u001b[0m \u001b[0mself\u001b[0m\u001b[0;34m.\u001b[0m\u001b[0mnodelist\u001b[0m\u001b[0;34m.\u001b[0m\u001b[0mrender\u001b[0m\u001b[0;34m(\u001b[0m\u001b[0mcontext\u001b[0m\u001b[0;34m)\u001b[0m\u001b[0;34m\u001b[0m\u001b[0m\n\u001b[0m\u001b[1;32m    198\u001b[0m \u001b[0;34m\u001b[0m\u001b[0m\n\u001b[1;32m    199\u001b[0m     \u001b[0;32mdef\u001b[0m \u001b[0mrender\u001b[0m\u001b[0;34m(\u001b[0m\u001b[0mself\u001b[0m\u001b[0;34m,\u001b[0m \u001b[0mcontext\u001b[0m\u001b[0;34m)\u001b[0m\u001b[0;34m:\u001b[0m\u001b[0;34m\u001b[0m\u001b[0m\n",
      "\u001b[0;32m/Users/lucaswiman/counsyl/website/vendor/venv/lib/python2.7/site-packages/django/template/base.pyc\u001b[0m in \u001b[0;36mrender\u001b[0;34m(self, context)\u001b[0m\n\u001b[1;32m    990\u001b[0m         \u001b[0;32mfor\u001b[0m \u001b[0mnode\u001b[0m \u001b[0;32min\u001b[0m \u001b[0mself\u001b[0m\u001b[0;34m:\u001b[0m\u001b[0;34m\u001b[0m\u001b[0m\n\u001b[1;32m    991\u001b[0m             \u001b[0;32mif\u001b[0m \u001b[0misinstance\u001b[0m\u001b[0;34m(\u001b[0m\u001b[0mnode\u001b[0m\u001b[0;34m,\u001b[0m \u001b[0mNode\u001b[0m\u001b[0;34m)\u001b[0m\u001b[0;34m:\u001b[0m\u001b[0;34m\u001b[0m\u001b[0m\n\u001b[0;32m--> 992\u001b[0;31m                 \u001b[0mbit\u001b[0m \u001b[0;34m=\u001b[0m \u001b[0mnode\u001b[0m\u001b[0;34m.\u001b[0m\u001b[0mrender_annotated\u001b[0m\u001b[0;34m(\u001b[0m\u001b[0mcontext\u001b[0m\u001b[0;34m)\u001b[0m\u001b[0;34m\u001b[0m\u001b[0m\n\u001b[0m\u001b[1;32m    993\u001b[0m             \u001b[0;32melse\u001b[0m\u001b[0;34m:\u001b[0m\u001b[0;34m\u001b[0m\u001b[0m\n\u001b[1;32m    994\u001b[0m                 \u001b[0mbit\u001b[0m \u001b[0;34m=\u001b[0m \u001b[0mnode\u001b[0m\u001b[0;34m\u001b[0m\u001b[0m\n",
      "\u001b[0;32m/Users/lucaswiman/counsyl/website/vendor/venv/lib/python2.7/site-packages/django/template/base.pyc\u001b[0m in \u001b[0;36mrender_annotated\u001b[0;34m(self, context)\u001b[0m\n\u001b[1;32m    957\u001b[0m         \"\"\"\n\u001b[1;32m    958\u001b[0m         \u001b[0;32mtry\u001b[0m\u001b[0;34m:\u001b[0m\u001b[0;34m\u001b[0m\u001b[0m\n\u001b[0;32m--> 959\u001b[0;31m             \u001b[0;32mreturn\u001b[0m \u001b[0mself\u001b[0m\u001b[0;34m.\u001b[0m\u001b[0mrender\u001b[0m\u001b[0;34m(\u001b[0m\u001b[0mcontext\u001b[0m\u001b[0;34m)\u001b[0m\u001b[0;34m\u001b[0m\u001b[0m\n\u001b[0m\u001b[1;32m    960\u001b[0m         \u001b[0;32mexcept\u001b[0m \u001b[0mException\u001b[0m \u001b[0;32mas\u001b[0m \u001b[0me\u001b[0m\u001b[0;34m:\u001b[0m\u001b[0;34m\u001b[0m\u001b[0m\n\u001b[1;32m    961\u001b[0m             \u001b[0;32mif\u001b[0m \u001b[0mcontext\u001b[0m\u001b[0;34m.\u001b[0m\u001b[0mtemplate\u001b[0m\u001b[0;34m.\u001b[0m\u001b[0mengine\u001b[0m\u001b[0;34m.\u001b[0m\u001b[0mdebug\u001b[0m \u001b[0;32mand\u001b[0m \u001b[0;32mnot\u001b[0m \u001b[0mhasattr\u001b[0m\u001b[0;34m(\u001b[0m\u001b[0me\u001b[0m\u001b[0;34m,\u001b[0m \u001b[0;34m'template_debug'\u001b[0m\u001b[0;34m)\u001b[0m\u001b[0;34m:\u001b[0m\u001b[0;34m\u001b[0m\u001b[0m\n",
      "\u001b[0;32m/Users/lucaswiman/counsyl/website/vendor/venv/lib/python2.7/site-packages/django/template/base.pyc\u001b[0m in \u001b[0;36mrender\u001b[0;34m(self, context)\u001b[0m\n\u001b[1;32m   1041\u001b[0m     \u001b[0;32mdef\u001b[0m \u001b[0mrender\u001b[0m\u001b[0;34m(\u001b[0m\u001b[0mself\u001b[0m\u001b[0;34m,\u001b[0m \u001b[0mcontext\u001b[0m\u001b[0;34m)\u001b[0m\u001b[0;34m:\u001b[0m\u001b[0;34m\u001b[0m\u001b[0m\n\u001b[1;32m   1042\u001b[0m         \u001b[0;32mtry\u001b[0m\u001b[0;34m:\u001b[0m\u001b[0;34m\u001b[0m\u001b[0m\n\u001b[0;32m-> 1043\u001b[0;31m             \u001b[0moutput\u001b[0m \u001b[0;34m=\u001b[0m \u001b[0mself\u001b[0m\u001b[0;34m.\u001b[0m\u001b[0mfilter_expression\u001b[0m\u001b[0;34m.\u001b[0m\u001b[0mresolve\u001b[0m\u001b[0;34m(\u001b[0m\u001b[0mcontext\u001b[0m\u001b[0;34m)\u001b[0m\u001b[0;34m\u001b[0m\u001b[0m\n\u001b[0m\u001b[1;32m   1044\u001b[0m         \u001b[0;32mexcept\u001b[0m \u001b[0mUnicodeDecodeError\u001b[0m\u001b[0;34m:\u001b[0m\u001b[0;34m\u001b[0m\u001b[0m\n\u001b[1;32m   1045\u001b[0m             \u001b[0;31m# Unicode conversion can fail sometimes for reasons out of our\u001b[0m\u001b[0;34m\u001b[0m\u001b[0;34m\u001b[0m\u001b[0m\n",
      "\u001b[0;32m/Users/lucaswiman/counsyl/website/vendor/venv/lib/python2.7/site-packages/django/template/base.pyc\u001b[0m in \u001b[0;36mresolve\u001b[0;34m(self, context, ignore_failures)\u001b[0m\n\u001b[1;32m    707\u001b[0m         \u001b[0;32mif\u001b[0m \u001b[0misinstance\u001b[0m\u001b[0;34m(\u001b[0m\u001b[0mself\u001b[0m\u001b[0;34m.\u001b[0m\u001b[0mvar\u001b[0m\u001b[0;34m,\u001b[0m \u001b[0mVariable\u001b[0m\u001b[0;34m)\u001b[0m\u001b[0;34m:\u001b[0m\u001b[0;34m\u001b[0m\u001b[0m\n\u001b[1;32m    708\u001b[0m             \u001b[0;32mtry\u001b[0m\u001b[0;34m:\u001b[0m\u001b[0;34m\u001b[0m\u001b[0m\n\u001b[0;32m--> 709\u001b[0;31m                 \u001b[0mobj\u001b[0m \u001b[0;34m=\u001b[0m \u001b[0mself\u001b[0m\u001b[0;34m.\u001b[0m\u001b[0mvar\u001b[0m\u001b[0;34m.\u001b[0m\u001b[0mresolve\u001b[0m\u001b[0;34m(\u001b[0m\u001b[0mcontext\u001b[0m\u001b[0;34m)\u001b[0m\u001b[0;34m\u001b[0m\u001b[0m\n\u001b[0m\u001b[1;32m    710\u001b[0m             \u001b[0;32mexcept\u001b[0m \u001b[0mVariableDoesNotExist\u001b[0m\u001b[0;34m:\u001b[0m\u001b[0;34m\u001b[0m\u001b[0m\n\u001b[1;32m    711\u001b[0m                 \u001b[0;32mif\u001b[0m \u001b[0mignore_failures\u001b[0m\u001b[0;34m:\u001b[0m\u001b[0;34m\u001b[0m\u001b[0m\n",
      "\u001b[0;32m/Users/lucaswiman/counsyl/website/vendor/venv/lib/python2.7/site-packages/django/template/base.pyc\u001b[0m in \u001b[0;36mresolve\u001b[0;34m(self, context)\u001b[0m\n\u001b[1;32m    848\u001b[0m         \u001b[0;32mif\u001b[0m \u001b[0mself\u001b[0m\u001b[0;34m.\u001b[0m\u001b[0mlookups\u001b[0m \u001b[0;32mis\u001b[0m \u001b[0;32mnot\u001b[0m \u001b[0mNone\u001b[0m\u001b[0;34m:\u001b[0m\u001b[0;34m\u001b[0m\u001b[0m\n\u001b[1;32m    849\u001b[0m             \u001b[0;31m# We're dealing with a variable that needs to be resolved\u001b[0m\u001b[0;34m\u001b[0m\u001b[0;34m\u001b[0m\u001b[0m\n\u001b[0;32m--> 850\u001b[0;31m             \u001b[0mvalue\u001b[0m \u001b[0;34m=\u001b[0m \u001b[0mself\u001b[0m\u001b[0;34m.\u001b[0m\u001b[0m_resolve_lookup\u001b[0m\u001b[0;34m(\u001b[0m\u001b[0mcontext\u001b[0m\u001b[0;34m)\u001b[0m\u001b[0;34m\u001b[0m\u001b[0m\n\u001b[0m\u001b[1;32m    851\u001b[0m         \u001b[0;32melse\u001b[0m\u001b[0;34m:\u001b[0m\u001b[0;34m\u001b[0m\u001b[0m\n\u001b[1;32m    852\u001b[0m             \u001b[0;31m# We're dealing with a literal, so it's already been \"resolved\"\u001b[0m\u001b[0;34m\u001b[0m\u001b[0;34m\u001b[0m\u001b[0m\n",
      "\u001b[0;32m/Users/lucaswiman/counsyl/website/vendor/venv/lib/python2.7/site-packages/django/template/base.pyc\u001b[0m in \u001b[0;36m_resolve_lookup\u001b[0;34m(self, context)\u001b[0m\n\u001b[1;32m    911\u001b[0m                     \u001b[0;32melse\u001b[0m\u001b[0;34m:\u001b[0m\u001b[0;34m\u001b[0m\u001b[0m\n\u001b[1;32m    912\u001b[0m                         \u001b[0;32mtry\u001b[0m\u001b[0;34m:\u001b[0m  \u001b[0;31m# method call (assuming no args required)\u001b[0m\u001b[0;34m\u001b[0m\u001b[0m\n\u001b[0;32m--> 913\u001b[0;31m                             \u001b[0mcurrent\u001b[0m \u001b[0;34m=\u001b[0m \u001b[0mcurrent\u001b[0m\u001b[0;34m(\u001b[0m\u001b[0;34m)\u001b[0m\u001b[0;34m\u001b[0m\u001b[0m\n\u001b[0m\u001b[1;32m    914\u001b[0m                         \u001b[0;32mexcept\u001b[0m \u001b[0mTypeError\u001b[0m\u001b[0;34m:\u001b[0m\u001b[0;34m\u001b[0m\u001b[0m\n\u001b[1;32m    915\u001b[0m                             \u001b[0;32mtry\u001b[0m\u001b[0;34m:\u001b[0m\u001b[0;34m\u001b[0m\u001b[0m\n",
      "\u001b[0;32m/Users/lucaswiman/counsyl/website/vendor/venv/lib/python2.7/site-packages/sympy/core/symbol.pyc\u001b[0m in \u001b[0;36m__call__\u001b[0;34m(self, *args)\u001b[0m\n\u001b[1;32m    156\u001b[0m     \u001b[0;32mdef\u001b[0m \u001b[0m__call__\u001b[0m\u001b[0;34m(\u001b[0m\u001b[0mself\u001b[0m\u001b[0;34m,\u001b[0m \u001b[0;34m*\u001b[0m\u001b[0margs\u001b[0m\u001b[0;34m)\u001b[0m\u001b[0;34m:\u001b[0m\u001b[0;34m\u001b[0m\u001b[0m\n\u001b[1;32m    157\u001b[0m         \u001b[0;32mfrom\u001b[0m \u001b[0;34m.\u001b[0m\u001b[0mfunction\u001b[0m \u001b[0;32mimport\u001b[0m \u001b[0mFunction\u001b[0m\u001b[0;34m\u001b[0m\u001b[0m\n\u001b[0;32m--> 158\u001b[0;31m         \u001b[0;32mreturn\u001b[0m \u001b[0mFunction\u001b[0m\u001b[0;34m(\u001b[0m\u001b[0mself\u001b[0m\u001b[0;34m.\u001b[0m\u001b[0mname\u001b[0m\u001b[0;34m)\u001b[0m\u001b[0;34m(\u001b[0m\u001b[0;34m*\u001b[0m\u001b[0margs\u001b[0m\u001b[0;34m)\u001b[0m\u001b[0;34m\u001b[0m\u001b[0m\n\u001b[0m\u001b[1;32m    159\u001b[0m \u001b[0;34m\u001b[0m\u001b[0m\n\u001b[1;32m    160\u001b[0m     \u001b[0;32mdef\u001b[0m \u001b[0mas_real_imag\u001b[0m\u001b[0;34m(\u001b[0m\u001b[0mself\u001b[0m\u001b[0;34m,\u001b[0m \u001b[0mdeep\u001b[0m\u001b[0;34m=\u001b[0m\u001b[0mTrue\u001b[0m\u001b[0;34m,\u001b[0m \u001b[0;34m**\u001b[0m\u001b[0mhints\u001b[0m\u001b[0;34m)\u001b[0m\u001b[0;34m:\u001b[0m\u001b[0;34m\u001b[0m\u001b[0m\n",
      "\u001b[0;32m/Users/lucaswiman/counsyl/website/vendor/venv/lib/python2.7/site-packages/sympy/core/function.pyc\u001b[0m in \u001b[0;36m__new__\u001b[0;34m(cls, *args, **options)\u001b[0m\n\u001b[1;32m    759\u001b[0m     \u001b[0;32mdef\u001b[0m \u001b[0m__new__\u001b[0m\u001b[0;34m(\u001b[0m\u001b[0mcls\u001b[0m\u001b[0;34m,\u001b[0m \u001b[0;34m*\u001b[0m\u001b[0margs\u001b[0m\u001b[0;34m,\u001b[0m \u001b[0;34m**\u001b[0m\u001b[0moptions\u001b[0m\u001b[0;34m)\u001b[0m\u001b[0;34m:\u001b[0m\u001b[0;34m\u001b[0m\u001b[0m\n\u001b[1;32m    760\u001b[0m         \u001b[0margs\u001b[0m \u001b[0;34m=\u001b[0m \u001b[0mlist\u001b[0m\u001b[0;34m(\u001b[0m\u001b[0mmap\u001b[0m\u001b[0;34m(\u001b[0m\u001b[0msympify\u001b[0m\u001b[0;34m,\u001b[0m \u001b[0margs\u001b[0m\u001b[0;34m)\u001b[0m\u001b[0;34m)\u001b[0m\u001b[0;34m\u001b[0m\u001b[0m\n\u001b[0;32m--> 761\u001b[0;31m         \u001b[0mobj\u001b[0m \u001b[0;34m=\u001b[0m \u001b[0msuper\u001b[0m\u001b[0;34m(\u001b[0m\u001b[0mAppliedUndef\u001b[0m\u001b[0;34m,\u001b[0m \u001b[0mcls\u001b[0m\u001b[0;34m)\u001b[0m\u001b[0;34m.\u001b[0m\u001b[0m__new__\u001b[0m\u001b[0;34m(\u001b[0m\u001b[0mcls\u001b[0m\u001b[0;34m,\u001b[0m \u001b[0;34m*\u001b[0m\u001b[0margs\u001b[0m\u001b[0;34m,\u001b[0m \u001b[0;34m**\u001b[0m\u001b[0moptions\u001b[0m\u001b[0;34m)\u001b[0m\u001b[0;34m\u001b[0m\u001b[0m\n\u001b[0m\u001b[1;32m    762\u001b[0m         \u001b[0;32mreturn\u001b[0m \u001b[0mobj\u001b[0m\u001b[0;34m\u001b[0m\u001b[0m\n\u001b[1;32m    763\u001b[0m \u001b[0;34m\u001b[0m\u001b[0m\n",
      "\u001b[0;32m/Users/lucaswiman/counsyl/website/vendor/venv/lib/python2.7/site-packages/sympy/core/cache.pyc\u001b[0m in \u001b[0;36mwrapper\u001b[0;34m(*args, **kwargs)\u001b[0m\n\u001b[1;32m     91\u001b[0m             \u001b[0;32mdef\u001b[0m \u001b[0mwrapper\u001b[0m\u001b[0;34m(\u001b[0m\u001b[0;34m*\u001b[0m\u001b[0margs\u001b[0m\u001b[0;34m,\u001b[0m \u001b[0;34m**\u001b[0m\u001b[0mkwargs\u001b[0m\u001b[0;34m)\u001b[0m\u001b[0;34m:\u001b[0m\u001b[0;34m\u001b[0m\u001b[0m\n\u001b[1;32m     92\u001b[0m                 \u001b[0;32mtry\u001b[0m\u001b[0;34m:\u001b[0m\u001b[0;34m\u001b[0m\u001b[0m\n\u001b[0;32m---> 93\u001b[0;31m                     \u001b[0mretval\u001b[0m \u001b[0;34m=\u001b[0m \u001b[0mcfunc\u001b[0m\u001b[0;34m(\u001b[0m\u001b[0;34m*\u001b[0m\u001b[0margs\u001b[0m\u001b[0;34m,\u001b[0m \u001b[0;34m**\u001b[0m\u001b[0mkwargs\u001b[0m\u001b[0;34m)\u001b[0m\u001b[0;34m\u001b[0m\u001b[0m\n\u001b[0m\u001b[1;32m     94\u001b[0m                 \u001b[0;32mexcept\u001b[0m \u001b[0mTypeError\u001b[0m\u001b[0;34m:\u001b[0m\u001b[0;34m\u001b[0m\u001b[0m\n\u001b[1;32m     95\u001b[0m                     \u001b[0mretval\u001b[0m \u001b[0;34m=\u001b[0m \u001b[0mfunc\u001b[0m\u001b[0;34m(\u001b[0m\u001b[0;34m*\u001b[0m\u001b[0margs\u001b[0m\u001b[0;34m,\u001b[0m \u001b[0;34m**\u001b[0m\u001b[0mkwargs\u001b[0m\u001b[0;34m)\u001b[0m\u001b[0;34m\u001b[0m\u001b[0m\n",
      "\u001b[0;32m/Users/lucaswiman/counsyl/website/vendor/venv/lib/python2.7/site-packages/sympy/core/compatibility.pyc\u001b[0m in \u001b[0;36mwrapper\u001b[0;34m(*args, **kwds)\u001b[0m\n\u001b[1;32m    807\u001b[0m                         \u001b[0mstats\u001b[0m\u001b[0;34m[\u001b[0m\u001b[0mHITS\u001b[0m\u001b[0;34m]\u001b[0m \u001b[0;34m+=\u001b[0m \u001b[0;36m1\u001b[0m\u001b[0;34m\u001b[0m\u001b[0m\n\u001b[1;32m    808\u001b[0m                         \u001b[0;32mreturn\u001b[0m \u001b[0mresult\u001b[0m\u001b[0;34m\u001b[0m\u001b[0m\n\u001b[0;32m--> 809\u001b[0;31m                 \u001b[0mresult\u001b[0m \u001b[0;34m=\u001b[0m \u001b[0muser_function\u001b[0m\u001b[0;34m(\u001b[0m\u001b[0;34m*\u001b[0m\u001b[0margs\u001b[0m\u001b[0;34m,\u001b[0m \u001b[0;34m**\u001b[0m\u001b[0mkwds\u001b[0m\u001b[0;34m)\u001b[0m\u001b[0;34m\u001b[0m\u001b[0m\n\u001b[0m\u001b[1;32m    810\u001b[0m                 \u001b[0;32mwith\u001b[0m \u001b[0mlock\u001b[0m\u001b[0;34m:\u001b[0m\u001b[0;34m\u001b[0m\u001b[0m\n\u001b[1;32m    811\u001b[0m                     \u001b[0mroot\u001b[0m\u001b[0;34m,\u001b[0m \u001b[0;34m=\u001b[0m \u001b[0mnonlocal_root\u001b[0m\u001b[0;34m\u001b[0m\u001b[0m\n",
      "\u001b[0;32m/Users/lucaswiman/counsyl/website/vendor/venv/lib/python2.7/site-packages/sympy/core/function.pyc\u001b[0m in \u001b[0;36m__new__\u001b[0;34m(cls, *args, **options)\u001b[0m\n\u001b[1;32m    429\u001b[0m             \u001b[0;32mreturn\u001b[0m \u001b[0mresult\u001b[0m\u001b[0;34m\u001b[0m\u001b[0m\n\u001b[1;32m    430\u001b[0m \u001b[0;34m\u001b[0m\u001b[0m\n\u001b[0;32m--> 431\u001b[0;31m         \u001b[0mpr\u001b[0m \u001b[0;34m=\u001b[0m \u001b[0mmax\u001b[0m\u001b[0;34m(\u001b[0m\u001b[0mcls\u001b[0m\u001b[0;34m.\u001b[0m\u001b[0m_should_evalf\u001b[0m\u001b[0;34m(\u001b[0m\u001b[0ma\u001b[0m\u001b[0;34m)\u001b[0m \u001b[0;32mfor\u001b[0m \u001b[0ma\u001b[0m \u001b[0;32min\u001b[0m \u001b[0mresult\u001b[0m\u001b[0;34m.\u001b[0m\u001b[0margs\u001b[0m\u001b[0;34m)\u001b[0m\u001b[0;34m\u001b[0m\u001b[0m\n\u001b[0m\u001b[1;32m    432\u001b[0m         \u001b[0mpr2\u001b[0m \u001b[0;34m=\u001b[0m \u001b[0mmin\u001b[0m\u001b[0;34m(\u001b[0m\u001b[0mcls\u001b[0m\u001b[0;34m.\u001b[0m\u001b[0m_should_evalf\u001b[0m\u001b[0;34m(\u001b[0m\u001b[0ma\u001b[0m\u001b[0;34m)\u001b[0m \u001b[0;32mfor\u001b[0m \u001b[0ma\u001b[0m \u001b[0;32min\u001b[0m \u001b[0mresult\u001b[0m\u001b[0;34m.\u001b[0m\u001b[0margs\u001b[0m\u001b[0;34m)\u001b[0m\u001b[0;34m\u001b[0m\u001b[0m\n\u001b[1;32m    433\u001b[0m         \u001b[0;32mif\u001b[0m \u001b[0mpr2\u001b[0m \u001b[0;34m>\u001b[0m \u001b[0;36m0\u001b[0m\u001b[0;34m:\u001b[0m\u001b[0;34m\u001b[0m\u001b[0m\n",
      "\u001b[0;31mValueError\u001b[0m: max() arg is an empty sequence"
     ]
    }
   ],
   "source": [
    "from django.template.base import Template, Context\n",
    "template = Template(\"Let the prevalence be denoted by ${{ prevalence_var }}$.\")\n",
    "template.render(context=Context({'prevalence_var': Symbol('\\alpha')}))"
   ]
  },
  {
   "cell_type": "code",
   "execution_count": 159,
   "metadata": {
    "slideshow": {
     "slide_type": "slide"
    }
   },
   "outputs": [
    {
     "data": {
      "text/plain": [
       "u'Let the prevalence be denoted by $\\\\alpha$.'"
      ]
     },
     "execution_count": 159,
     "metadata": {},
     "output_type": "execute_result"
    }
   ],
   "source": [
    "sympy.Expr.do_not_call_in_templates = True\n",
    "result = template.render(context=Context({'prevalence_var': Symbol(r'\\alpha')}))\n",
    "del sympy.Expr.do_not_call_in_templates\n",
    "result"
   ]
  },
  {
   "cell_type": "code",
   "execution_count": 3,
   "metadata": {
    "slideshow": {
     "slide_type": "skip"
    }
   },
   "outputs": [
    {
     "data": {
      "text/markdown": [
       "*some markdown* $\\phi$"
      ],
      "text/plain": [
       "<IPython.core.display.Markdown object>"
      ]
     },
     "metadata": {},
     "output_type": "display_data"
    }
   ],
   "source": [
    "# Trick: display markdown directly in jupyter notebook\n",
    "from IPython.display import display, Markdown\n",
    "display(Markdown(r'*some markdown* $\\phi$'))"
   ]
  }
 ],
 "metadata": {
  "celltoolbar": "Slideshow",
  "kernelspec": {
   "display_name": "Django Shell-Plus",
   "language": "python",
   "name": "django_extensions"
  },
  "language_info": {
   "codemirror_mode": {
    "name": "ipython",
    "version": 3
   },
   "file_extension": ".py",
   "mimetype": "text/x-python",
   "name": "python",
   "nbconvert_exporter": "python",
   "pygments_lexer": "ipython3",
   "version": "3.6.1"
  }
 },
 "nbformat": 4,
 "nbformat_minor": 2
}
