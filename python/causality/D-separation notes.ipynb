{
 "cells": [
  {
   "cell_type": "markdown",
   "metadata": {},
   "source": [
    "Page. 16-17 in Causality:\n",
    "\n",
    "**Definition**:\n",
    "* An undirected path $p$ in a directed graph is said to be $d$-separated by a set of nodes $Z$ if:\n",
    "  1. $p$ contains a chain $i\\to m \\to j$ where $m\\in Z$, or \n",
    "  2. $p$ contains an \"inverted fork\" (aka collider) $i \\to m \\leftarrow j$ such taht the middle node $m$ is not in Z and such that no descendant of $m$ is in $Z$.\n",
    "* $Z$ is said to $d$-separate $X$ from $Y$ iff $Z$ $d$-separates every path from a node in $X$ to a node in $Y$.\n",
    "* \"$d$-separated\" and \"blocked\" are synonyms.\n",
    "\n",
    "This definition is relevant because of:\n",
    "\n",
    "**Theorem** (Probabilistic implications of $d$-separation)\n",
    "* If $X$ and $Y$ are $d$-separated by $Z$, then $X$ is independent of $Y$ conditional on $Z$ in every distribution compatible with $G$.\n",
    "* Conversely, if $X$ and $Y$ are not $d$-separated by $Z$ (i.e. there is at least one path above which violates both (1) and (2) above), then there is at least one distribution such that $X$ and $Y$ are dependent conditional on $Z$."
   ]
  },
  {
   "cell_type": "code",
   "execution_count": 1,
   "metadata": {},
   "outputs": [
    {
     "ename": "ModuleNotFoundError",
     "evalue": "No module named 'networkx'",
     "output_type": "error",
     "traceback": [
      "\u001b[0;31m---------------------------------------------------------------------------\u001b[0m",
      "\u001b[0;31mModuleNotFoundError\u001b[0m                       Traceback (most recent call last)",
      "\u001b[0;32m<ipython-input-1-719b05231e1b>\u001b[0m in \u001b[0;36m<module>\u001b[0;34m\u001b[0m\n\u001b[0;32m----> 1\u001b[0;31m \u001b[0;32mimport\u001b[0m \u001b[0mnetworkx\u001b[0m\u001b[0;34m\u001b[0m\u001b[0;34m\u001b[0m\u001b[0m\n\u001b[0m",
      "\u001b[0;31mModuleNotFoundError\u001b[0m: No module named 'networkx'"
     ]
    }
   ],
   "source": [
    "import networkx"
   ]
  },
  {
   "cell_type": "code",
   "execution_count": null,
   "metadata": {},
   "outputs": [],
   "source": []
  }
 ],
 "metadata": {
  "kernelspec": {
   "display_name": "Python 3",
   "language": "python",
   "name": "python3"
  },
  "language_info": {
   "codemirror_mode": {
    "name": "ipython",
    "version": 3
   },
   "file_extension": ".py",
   "mimetype": "text/x-python",
   "name": "python",
   "nbconvert_exporter": "python",
   "pygments_lexer": "ipython3",
   "version": "3.8.1"
  }
 },
 "nbformat": 4,
 "nbformat_minor": 4
}
