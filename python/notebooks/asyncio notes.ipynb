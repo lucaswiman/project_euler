{
 "cells": [
  {
   "cell_type": "code",
   "execution_count": 29,
   "id": "2436b7bc",
   "metadata": {},
   "outputs": [
    {
     "name": "stdout",
     "output_type": "stream",
     "text": [
      "0\n",
      "1\n",
      "2\n",
      "Executed slow_bar in 12.01275944200006s\n",
      "Executed fast_bar in 5.010510840000279s\n"
     ]
    }
   ],
   "source": [
    "import asyncio\n",
    "import random\n",
    "import time\n",
    "\n",
    "from contextlib import contextmanager\n",
    "\n",
    "@contextmanager\n",
    "def timed(name=''):\n",
    "    t0 = time.perf_counter()\n",
    "    yield\n",
    "    t1 = time.perf_counter()\n",
    "    print(f\"Executed {name} in {t1 - t0}s\")\n",
    "\n",
    "async def foo(i):\n",
    "    slept = random.randint(0, 5)\n",
    "#     print(f\"sleeping {slept}s\")\n",
    "    await asyncio.sleep(slept)\n",
    "#     print(f\"slept {slept}s\")\n",
    "    return i\n",
    "\n",
    "\n",
    "async def async_range(*args, **kwargs):\n",
    "    for x in range(*args, **kwargs):\n",
    "        yield x\n",
    "\n",
    "    \n",
    "async def slow_bar(n):\n",
    "    \"\"\"\n",
    "    Seems kinda silly, but async for does _not_ run in parallel.\n",
    "    \n",
    "    It just allows iterating over an async generator.\n",
    "    \"\"\"\n",
    "    values = []\n",
    "    async for i in async_range(n):  # runs serially\n",
    "        value = await foo(i)\n",
    "        print(value)\n",
    "        values.append(value)\n",
    "    return values\n",
    "\n",
    "with timed(\"slow_bar\"):\n",
    "    await slow_bar(3)\n",
    "\n",
    "async def fast_bar(n):\n",
    "    values = []\n",
    "    for value in asyncio.as_completed([foo(i) for i in range(n)]):\n",
    "        result = await value\n",
    "        values.append(result)\n",
    "#         print(result)\n",
    "    return values\n",
    "\n",
    "\n",
    "with timed(\"fast_bar\"):\n",
    "    await fast_bar(100)"
   ]
  },
  {
   "cell_type": "code",
   "execution_count": 30,
   "id": "9e6ac7fa",
   "metadata": {},
   "outputs": [
    {
     "name": "stdout",
     "output_type": "stream",
     "text": [
      "Collecting aiofiles\n",
      "  Downloading aiofiles-0.7.0-py3-none-any.whl (13 kB)\n",
      "Installing collected packages: aiofiles\n",
      "Successfully installed aiofiles-0.7.0\n",
      "\u001b[33mWARNING: You are using pip version 21.1.3; however, version 21.2.4 is available.\n",
      "You should consider upgrading via the '/Users/lwiman/personal/stuff/python/notebooks/.venv/bin/python -m pip install --upgrade pip' command.\u001b[0m\n"
     ]
    }
   ],
   "source": [
    "!pip install aiofiles"
   ]
  },
  {
   "cell_type": "code",
   "execution_count": 34,
   "id": "b6efb57a",
   "metadata": {},
   "outputs": [
    {
     "name": "stdout",
     "output_type": "stream",
     "text": [
      "bar\n"
     ]
    }
   ],
   "source": [
    "import pathlib\n",
    "import aiofiles\n",
    "pathlib.Path('/tmp/foo').write_text('bar')\n",
    "async with aiofiles.open('/tmp/foo', mode='r') as f:\n",
    "    contents = await f.read()\n",
    "print(contents)"
   ]
  },
  {
   "cell_type": "code",
   "execution_count": null,
   "id": "c2cdf919",
   "metadata": {},
   "outputs": [],
   "source": []
  }
 ],
 "metadata": {
  "kernelspec": {
   "display_name": "Python 3 (ipykernel)",
   "language": "python",
   "name": "python3"
  },
  "language_info": {
   "codemirror_mode": {
    "name": "ipython",
    "version": 3
   },
   "file_extension": ".py",
   "mimetype": "text/x-python",
   "name": "python",
   "nbconvert_exporter": "python",
   "pygments_lexer": "ipython3",
   "version": "3.9.6"
  }
 },
 "nbformat": 4,
 "nbformat_minor": 5
}
