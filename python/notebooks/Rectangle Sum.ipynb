{
 "cells": [
  {
   "cell_type": "code",
   "execution_count": 1,
   "metadata": {},
   "outputs": [
    {
     "data": {
      "text/plain": [
       "Rectangle(values=array([[56., 47., 74., 92., 91., 86., 82., 39., 69., 68., 70., 83., 61.,\n",
       "        40., 13., 16.,  5., 48., 73., 89., 33., 66., 82., 31., 83., 40.,\n",
       "        63., 79., 42., 52.],\n",
       "       [31.,  3., 18., 98., 87., 51., 17., 90., 68., 83., 49., 99., 98.,\n",
       "        42., 11., 71., 19., 90., 75., 45., 57., 25., 83., 27., 17., 94.,\n",
       "        52., 75., 81., 12.],\n",
       "       [36., 94., 89., 84., 85., 34., 17., 71., 52., 52., 45., 39., 45.,\n",
       "        49., 92., 45., 94., 36., 45., 49., 32., 85., 62., 82., 34., 68.,\n",
       "        48., 35., 95.,  5.],\n",
       "       [ 8., 97., 56., 98., 41., 74., 12., 80., 95.,  8., 64., 17., 56.,\n",
       "        45., 10., 87., 59., 68., 13., 90., 10.,  2., 63., 52., 86., 70.,\n",
       "        49., 16., 85., 14.],\n",
       "       [76.,  6., 86., 17., 56.,  8., 51., 43., 34., 38., 43., 67., 75.,\n",
       "        59., 45., 29., 82., 39., 22., 76., 14., 84., 98., 71., 23., 12.,\n",
       "        71., 41., 22., 25.],\n",
       "       [90., 62., 65., 43., 25., 40., 23., 75., 13., 93.,  8., 98., 90.,\n",
       "        29., 48., 32., 72., 39., 10., 88., 94., 79., 97., 49., 50., 79.,\n",
       "        84., 31., 96., 43.],\n",
       "       [20., 41., 73., 31.,  2., 99., 52., 29., 69., 94., 80., 65., 63.,\n",
       "        40., 33.,  5., 66., 39., 40., 75.,  7., 37., 85., 95., 83., 49.,\n",
       "        94., 15., 54., 84.],\n",
       "       [ 9., 80.,  1., 36., 83., 14., 60., 93.,  0., 35., 73., 51.,  7.,\n",
       "        87., 95., 27.,  9., 22., 68., 90., 14., 37.,  9., 17., 13., 35.,\n",
       "        65., 39., 60., 29.],\n",
       "       [62.,  6., 95., 30., 38., 99., 57., 68.,  7., 52., 46., 65., 97.,\n",
       "        58., 82., 15., 40., 11., 20., 81., 11., 40., 31., 83., 26., 43.,\n",
       "        43., 39., 87., 94.],\n",
       "       [12., 18., 11., 36., 93., 43., 26., 51., 47., 89., 46., 13., 51.,\n",
       "        34., 17., 65., 66., 62., 18., 85., 96., 46., 65.,  3., 87., 54.,\n",
       "        21., 15., 63., 67.]]))"
      ]
     },
     "execution_count": 1,
     "metadata": {},
     "output_type": "execute_result"
    }
   ],
   "source": [
    "import numpy as np\n",
    "\n",
    "class Rectangle:\n",
    "    def __init__(self, rows=None, cols=None, values=None):\n",
    "        if not ((values is None) ^ (None in {rows, cols})):\n",
    "            raise ValueError(\"values and rows/columns are mutually exclusive\")\n",
    "        if (rows, cols) == (None, None):\n",
    "            rows, cols = values.shape\n",
    "        self.values = np.zeros((rows, cols))\n",
    "        self.partial_sums = np.zeros((rows, cols))\n",
    "        if values is not None:\n",
    "            for index, value in np.ndenumerate(values):\n",
    "                self.put(*index, value)\n",
    "            assert (self.values == values).all()\n",
    "    def put(self, row, col, value):\n",
    "        self.values[row, col] = value\n",
    "        self.partial_sums[row, col:] += value  # linear, O(cols)\n",
    "    def get_sum(self, row, col, naive=True):\n",
    "        if naive:\n",
    "            return self.values[:row+1,:col+1].sum()  # quadratic\n",
    "        else:\n",
    "            return self.partial_sums[:row+1, col].sum()  # linear, O(rows)\n",
    "    def __repr__(self):\n",
    "        return f\"Rectangle(values={self.values!r})\"\n",
    "\n",
    "    \n",
    "example = Rectangle(values=np.random.randint(0, 100, size=(10, 30)))\n",
    "example"
   ]
  },
  {
   "cell_type": "code",
   "execution_count": 2,
   "metadata": {},
   "outputs": [],
   "source": [
    "for row, col in np.ndindex(10, 30):\n",
    "    assert example.get_sum(row, col, naive=True) == example.get_sum(row, col, naive=False)"
   ]
  }
 ],
 "metadata": {
  "kernelspec": {
   "display_name": "Python 3",
   "language": "python",
   "name": "python3"
  },
  "language_info": {
   "codemirror_mode": {
    "name": "ipython",
    "version": 3
   },
   "file_extension": ".py",
   "mimetype": "text/x-python",
   "name": "python",
   "nbconvert_exporter": "python",
   "pygments_lexer": "ipython3",
   "version": "3.8.1"
  }
 },
 "nbformat": 4,
 "nbformat_minor": 4
}
