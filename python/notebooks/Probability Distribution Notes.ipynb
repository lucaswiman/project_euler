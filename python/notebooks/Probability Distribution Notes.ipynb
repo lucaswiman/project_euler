{
 "cells": [
  {
   "cell_type": "markdown",
   "id": "fb944cb8",
   "metadata": {},
   "source": [
    "# Interlude on limit definition of $\\exp$\n",
    "\n",
    "To start out, let's understand the definition that is commonly given for $e$:\n",
    "$$ e:= \\lim_{x\\to\\infty} \\left(1 + {1 \\over x}\\right)^x $$\n",
    "\n",
    "It's probably better to think of this in terms of $e^x$, exponentiation. Consider:\n",
    "$$ \\exp(y) := \\lim_{x\\to\\infty} \\left(1 + {y \\over x}\\right)^x $$\n",
    "\n",
    "The existence of this limit can be shown by [Bernoulli's inequality](https://en.wikipedia.org/wiki/Bernoulli%27s_inequality). Now note:\n",
    "\n",
    " 1. $\\exp(0)=1$\n",
    " 2. $\\exp(a\\cdot b)=(\\exp(a))^b$\n",
    " 3. $\\exp(a + b) = \\exp(a) \\cdot \\exp(b)$\n",
    " 4. ${d \\over dx} \\exp(x) = \\exp(x)$\n",
    " \n",
    "(1) follows immediately from the definition.\n",
    "\n",
    "To show (2), we have:\n",
    " \n",
    "\\begin{aligned}\n",
    "\\exp(ab) & = \\lim_{x\\to\\infty} \\left(1 + {ab \\over x}\\right)^x \\\\\n",
    "         & = \\lim_{q\\to\\infty} \\left(1 + {a \\over q}\\right)^{b\\cdot q} \\quad \\left(\\textrm{substitute } q=x/b\\right) \\\\\n",
    "         & = \\left(\\lim_{q\\to\\infty} \\left(1 + {a \\over q}\\right)^q\\right)^b \\\\\n",
    "         & = \\left(\\exp(a)\\right)^b \\\\\n",
    "\\end{aligned}\n",
    "\n",
    "For (3):\n",
    "\n",
    "\\begin{aligned}\n",
    "\\exp(a+b) & = \\lim_{x\\to\\infty} \\left(1 + {a+b \\over x}\\right)^x \\\\\n",
    "          & = \\lim_{q\\to\\infty} \\left(1 + {1 \\over q}\\right)^{q\\cdot (a+b)} \\quad \\left(\\textrm{substitute } q={x\\over a+b}\\right) \\\\\n",
    "          & = \\left(\\lim_{q\\to\\infty} \\left(1 + {1 \\over q}\\right)^q\\right)^{a+b} \\\\\n",
    "          & = \\left(\\exp(1)\\right)^{a+b} \\\\\n",
    "          & = \\exp(1)^a\\cdot \\exp(1)^b \\\\\n",
    "          & = \\exp(a)\\cdot \\exp(b) \\\\\n",
    "\\end{aligned}\n",
    "\n",
    "For (4), we have:\n",
    "\n",
    "\\begin{aligned}\n",
    "{d \\over dx} \\exp(x) &= \\lim_{\\delta\\to 0} \\frac{\\exp(x+\\delta) - \\exp(x)}{\\delta} \\\\\n",
    "                     &= \\lim_{\\delta\\to 0} \\frac{\\exp(x)\\exp(\\delta) - \\exp(x)}{\\delta} \\\\\n",
    "                     &= \\exp(x)\\left(\\lim_{\\delta\\to 0} \\frac{\\exp(\\delta) - 1}{\\delta} \\right) \\\\\n",
    "                     &= \\exp(x)\\left(\\lim_{\\delta\\to 0} \\frac{\\left(\\lim_{y\\to\\infty}(1 + 1/y)^y\\right)^\\delta - 1}{\\delta} \\right) \\\\\n",
    "                     &= \\exp(x)\\left(\\lim_{\\delta\\to 0} \\frac{\\left((1 + \\delta)^{1\\over \\delta}\\right)^\\delta - 1}{\\delta} \\right) \\quad \\left(\\textrm{letting }y=1/\\delta\\right)\\\\\n",
    "                     &= \\exp(x)\\left(\\lim_{\\delta\\to 0} \\frac{(1 + \\delta) - 1}{\\delta} \\right) \\\\\n",
    "                     &= \\exp(x)\\left(\\lim_{\\delta\\to 0} \\frac{\\delta}{\\delta} \\right)\\\\\n",
    "                     &= \\exp(x) \\\\\n",
    "\\end{aligned}"
   ]
  },
  {
   "cell_type": "markdown",
   "id": "5e1ea9fd",
   "metadata": {},
   "source": [
    "# Poisson (as a limit of Binomial)\n",
    "\n",
    "Note: follows [this post](https://medium.com/@andrew.chamberlain/deriving-the-poisson-distribution-from-the-binomial-distribution-840cc1668239).\n",
    "\n",
    "As a motivating example, consider the number of customers to a grocery store in a town, where every person in the town has probability $p$ of going to the store during a particular hour.  Suppose there are 40,000 people in the town, and they each have a 1/1,000 chance of going to the store during that hour.\n",
    "\n",
    "The PMF for this looks like:"
   ]
  },
  {
   "cell_type": "code",
   "execution_count": 11,
   "id": "4871c5d7",
   "metadata": {},
   "outputs": [
    {
     "data": {
      "image/png": "[encoded data removed]",
      "text/plain": [
       "<Figure size 432x288 with 1 Axes>"
      ]
     },
     "metadata": {
      "needs_background": "light"
     },
     "output_type": "display_data"
    }
   ],
   "source": [
    "import scipy.stats, numpy as np\n",
    "n = 100\n",
    "xs = np.linspace(0, n, n + 1)\n",
    "ys = scipy.stats.binom.pmf(xs, 40_000, 1 / 1_000)\n",
    "\n",
    "import matplotlib.pyplot as plt\n",
    "\n",
    "plt.plot(xs, ys)\n",
    "plt.show()\n"
   ]
  },
  {
   "cell_type": "markdown",
   "id": "5624bdbc",
   "metadata": {},
   "source": [
    "Now suppose we have $n$ binomial trials in a given time period, but we do not know $n$ or the parameter $p$. We only know the expected number of successes during that time period, $\\lambda$. (In the example above, we don't know how many people shop at this store, nor how likely they are to do so at 6-7pm on a Saturday.) But note that whatever $n$ and $p$ are, we have:\n",
    "$$\\lambda = np$$\n",
    "Or, equivalently:\n",
    "$$ p = {\\lambda \\over n} $$\n",
    "\n",
    "Then since this is a binomial trial, we have:\n",
    "$$ P(X=k) = {n \\choose k} \\left({\\lambda \\over n}\\right)^k \\left(1 - {\\lambda \\over n}\\right)^{n-k}  = {n! \\over k!(n-k)!} \\left({\\lambda \\over n}\\right)^k \\left(1 - {\\lambda \\over n}\\right)^{n-k} $$\n",
    "\n",
    "Taking the limit as $n\\to\\infty$:\n",
    "\n",
    "\\begin{aligned}\n",
    "P_\\infty(X=k) &= {\\lambda^k \\over k!} \\cdot \\lim_{n\\to\\infty} {n! \\over (n-k)!} \\left({1 \\over n}\\right)^k \\left(1 - {\\lambda \\over n}\\right)^{n-k} \\\\\n",
    "              &= {\\lambda^k \\over k!} \\cdot \\lim_{n\\to\\infty} {n! \\over n^k(n-k)!}  \\left(1 - {\\lambda \\over n}\\right)^n\\left(1 - {\\lambda \\over n}\\right)^{-k} \\\\\n",
    "              & \\textrm{Canceling like terms, we end up with }k\\textrm{ terms of size }O(n)\\textrm{ on top and bottom, so the first term is 1. Thus:} \\\\\n",
    "              &= {\\lambda^k \\over k!} \\cdot \\lim_{n\\to\\infty} \\left(1 - {\\lambda \\over n}\\right)^n\\left(1 - {\\lambda \\over n}\\right)^{-k} \\\\\n",
    "              & \\textrm{Since }k\\textrm{ is fixed. The second term is 1:} \\\\\n",
    "              &= {\\lambda^k \\over k!} \\cdot \\lim_{n\\to\\infty} \\left(1 - {\\lambda \\over n}\\right)^n \\\\\n",
    "              &= {\\lambda^k e^{-\\lambda} \\over k!} \\\\\n",
    "\\end{aligned}\n",
    "That is the standard PMF of the Poisson distribution. In our example above, we have $\\lambda=40$:"
   ]
  },
  {
   "cell_type": "code",
   "execution_count": 19,
   "id": "706578c6",
   "metadata": {},
   "outputs": [
    {
     "data": {
      "image/png": "[encoded data removed]",
      "text/plain": [
       "<Figure size 432x288 with 1 Axes>"
      ]
     },
     "metadata": {
      "needs_background": "light"
     },
     "output_type": "display_data"
    }
   ],
   "source": [
    "import scipy.stats, numpy as np, scipy.special\n",
    "bound = 100\n",
    "λ = 40\n",
    "xs = np.linspace(0, bound, bound + 1)\n",
    "ys = np.power(λ, xs) * np.exp(-λ) / scipy.special.factorial(xs)\n",
    "\n",
    "import matplotlib.pyplot as plt\n",
    "\n",
    "plt.plot(xs, ys)\n",
    "plt.show()\n"
   ]
  },
  {
   "cell_type": "code",
   "execution_count": null,
   "id": "b3ce2def",
   "metadata": {},
   "outputs": [],
   "source": []
  }
 ],
 "metadata": {
  "kernelspec": {
   "display_name": "Python 3 (ipykernel)",
   "language": "python",
   "name": "python3"
  },
  "language_info": {
   "codemirror_mode": {
    "name": "ipython",
    "version": 3
   },
   "file_extension": ".py",
   "mimetype": "text/x-python",
   "name": "python",
   "nbconvert_exporter": "python",
   "pygments_lexer": "ipython3",
   "version": "3.8.6"
  }
 },
 "nbformat": 4,
 "nbformat_minor": 5
}
