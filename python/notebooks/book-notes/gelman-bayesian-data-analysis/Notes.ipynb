{
 "cells": [
  {
   "cell_type": "markdown",
   "id": "c779daff",
   "metadata": {},
   "source": [
    "# Chapter 1\n",
    "\n",
    "### Notation (p. 4-6):\n",
    "* $\\theta$ denotes unobservable _vector_ quantities or population parameters, like the probability of survival in a clinical trial.\n",
    "* $y=(y_1, \\ldots, y_n)$ denotes the _observed_ data (e.g. number of survivors in each treatment arm). These are also called _outcomes_. \n",
    "* $\\tilde{y}$ denotes unknown but potentially observable quantities, e.g. outcomes of similar patients to the ones in our trial.\n",
    "\n",
    "In general:\n",
    "* All symbols represent multivariate quantities.\n",
    "* Greek letters denote \"parameters\".\n",
    "* Lower case Roman letters for observed scalars/vectors (or possibly matrices).\n",
    "* Upper case Roman letters denote observed or observable matrices.\n",
    "* Vector means column vector. $u^Tu$ is a scalar; $uu^T$ is a square matrix.\n",
    "\n",
    "\n",
    "_Explanatory variables_ or _covariates_ are observations on each unit that are not modeled as random, such as the age of a patient. These are usually denoted $x$, and the full set of explanatory variables for all observations is denoted $X$. If there are $k$ varibles, and $n$ members of the population, then $X$ is has $n$ rows and $k$ columns.\n",
    "\n",
    "In general the goal of Bayesian inference is to gain information about a parameter $\\theta$ or unobserved data $\\tilde{y}$ given the observed data $y$, written $P(\\theta|y)$ or $P(\\tilde{y}|y)$. (TODO: Probability Notation, p. 6)."
   ]
  },
  {
   "cell_type": "markdown",
   "id": "473a57e5",
   "metadata": {},
   "source": []
  }
 ],
 "metadata": {
  "kernelspec": {
   "display_name": "Python 3 (ipykernel)",
   "language": "python",
   "name": "python3"
  },
  "language_info": {
   "codemirror_mode": {
    "name": "ipython",
    "version": 3
   },
   "file_extension": ".py",
   "mimetype": "text/x-python",
   "name": "python",
   "nbconvert_exporter": "python",
   "pygments_lexer": "ipython3",
   "version": "3.8.6"
  }
 },
 "nbformat": 4,
 "nbformat_minor": 5
}
