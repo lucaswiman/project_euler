{
 "cells": [
  {
   "cell_type": "markdown",
   "metadata": {},
   "source": [
    "* Every path from $X$ to $W$ contains an element of $Y$ or $Z$\n",
    "* Every path from $X$ to $Y$ contains an element of $Z$ or $W$"
   ]
  },
  {
   "cell_type": "markdown",
   "metadata": {},
   "source": [
    "1. Now assume we have a path from $X$ to $Y$. _goal_: show the path goes through $Z$.\n",
    "\n",
    "_Proof:_ By the first property, the path must go through $Y$ or $Z$. If it goes through $Z$, we are done. If it goes through Y, then, then by the second property, it must go through either $Z$ or $W$. "
   ]
  },
  {
   "cell_type": "markdown",
   "metadata": {},
   "source": [
    "$\\newcommand{\\Perp}{\\perp\\!\\!\\!\\perp}$\n",
    "$(X\\Perp Y|Z)$"
   ]
  },
  {
   "cell_type": "code",
   "execution_count": null,
   "metadata": {},
   "outputs": [],
   "source": []
  }
 ],
 "metadata": {
  "kernelspec": {
   "display_name": "Python 3",
   "language": "python",
   "name": "python3"
  },
  "language_info": {
   "codemirror_mode": {
    "name": "ipython",
    "version": 3
   },
   "file_extension": ".py",
   "mimetype": "text/x-python",
   "name": "python",
   "nbconvert_exporter": "python",
   "pygments_lexer": "ipython3",
   "version": "3.8.1"
  }
 },
 "nbformat": 4,
 "nbformat_minor": 4
}
