{
 "cells": [
  {
   "cell_type": "markdown",
   "metadata": {},
   "source": [
    "> To update driver speeds, city engineers visit a street in the late morning or early afternoon, park along a stretch of road without stop signs or traffic lights, and use an electronic device to measure the speeds of 100 drivers.\n",
    "> \n",
    "> They rank the speeds from fastest to slowest and identify the 85th percentile — that is, the speed just below the 15th-fastest driver. City engineers use that “critical speed” as a basis for establishing a new speed limit, typically rounded to the nearest 5 mph.\n",
    "\n",
    "Description in [this LA Times Article](https://www.latimes.com/local/lanow/la-me-ln-speed-trap-20180722-story.html) about how the critical speed is determined, since speed limits must avoid speed traps, and be enforceable at 85%.\n",
    "\n",
    "_How often will the speed be overestimated assuming drivers are driving speeds are normally distributed speeds with a mean of the current speed limit and a standard deviation of 1mph?_"
   ]
  }
 ],
 "metadata": {
  "kernelspec": {
   "display_name": "Python 3",
   "language": "python",
   "name": "python3"
  },
  "language_info": {
   "codemirror_mode": {
    "name": "ipython",
    "version": 3
   },
   "file_extension": ".py",
   "mimetype": "text/x-python",
   "name": "python",
   "nbconvert_exporter": "python",
   "pygments_lexer": "ipython3",
   "version": "3.7.0"
  }
 },
 "nbformat": 4,
 "nbformat_minor": 2
}
